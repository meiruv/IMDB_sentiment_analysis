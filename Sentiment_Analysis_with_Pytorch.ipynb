{
  "nbformat": 4,
  "nbformat_minor": 0,
  "metadata": {
    "colab": {
      "name": "Sentiment Analysis with Pytorch.ipynb",
      "provenance": [],
      "collapsed_sections": [],
      "authorship_tag": "ABX9TyM5ijNv67ePazEt13NuApC2",
      "include_colab_link": true
    },
    "kernelspec": {
      "name": "python3",
      "display_name": "Python 3"
    },
    "language_info": {
      "name": "python"
    },
    "accelerator": "GPU",
    "widgets": {
      "application/vnd.jupyter.widget-state+json": {
        "5ecd6f0edc2a4c7c8e426cfb2b7e5126": {
          "model_module": "@jupyter-widgets/controls",
          "model_name": "HBoxModel",
          "model_module_version": "1.5.0",
          "state": {
            "_view_name": "HBoxView",
            "_dom_classes": [],
            "_model_name": "HBoxModel",
            "_view_module": "@jupyter-widgets/controls",
            "_model_module_version": "1.5.0",
            "_view_count": null,
            "_view_module_version": "1.5.0",
            "box_style": "",
            "layout": "IPY_MODEL_80454ff5f0b544cc872d9dffdb0930f2",
            "_model_module": "@jupyter-widgets/controls",
            "children": [
              "IPY_MODEL_eb23e6c3c81d4fbf9141ae0bf397e381",
              "IPY_MODEL_fc210b63727e49e69173d49dba3bbab0",
              "IPY_MODEL_3aca240dbfea4e5babdd831a387675b5"
            ]
          }
        },
        "80454ff5f0b544cc872d9dffdb0930f2": {
          "model_module": "@jupyter-widgets/base",
          "model_name": "LayoutModel",
          "model_module_version": "1.2.0",
          "state": {
            "_view_name": "LayoutView",
            "grid_template_rows": null,
            "right": null,
            "justify_content": null,
            "_view_module": "@jupyter-widgets/base",
            "overflow": null,
            "_model_module_version": "1.2.0",
            "_view_count": null,
            "flex_flow": null,
            "width": null,
            "min_width": null,
            "border": null,
            "align_items": null,
            "bottom": null,
            "_model_module": "@jupyter-widgets/base",
            "top": null,
            "grid_column": null,
            "overflow_y": null,
            "overflow_x": null,
            "grid_auto_flow": null,
            "grid_area": null,
            "grid_template_columns": null,
            "flex": null,
            "_model_name": "LayoutModel",
            "justify_items": null,
            "grid_row": null,
            "max_height": null,
            "align_content": null,
            "visibility": null,
            "align_self": null,
            "height": null,
            "min_height": null,
            "padding": null,
            "grid_auto_rows": null,
            "grid_gap": null,
            "max_width": null,
            "order": null,
            "_view_module_version": "1.2.0",
            "grid_template_areas": null,
            "object_position": null,
            "object_fit": null,
            "grid_auto_columns": null,
            "margin": null,
            "display": null,
            "left": null
          }
        },
        "eb23e6c3c81d4fbf9141ae0bf397e381": {
          "model_module": "@jupyter-widgets/controls",
          "model_name": "HTMLModel",
          "model_module_version": "1.5.0",
          "state": {
            "_view_name": "HTMLView",
            "style": "IPY_MODEL_5eaed47c3c5d41e7b023dbc99d556d11",
            "_dom_classes": [],
            "description": "",
            "_model_name": "HTMLModel",
            "placeholder": "​",
            "_view_module": "@jupyter-widgets/controls",
            "_model_module_version": "1.5.0",
            "value": "Downloading: 100%",
            "_view_count": null,
            "_view_module_version": "1.5.0",
            "description_tooltip": null,
            "_model_module": "@jupyter-widgets/controls",
            "layout": "IPY_MODEL_6ad5ec3f4d064f1cb2273ffd1f634cc1"
          }
        },
        "fc210b63727e49e69173d49dba3bbab0": {
          "model_module": "@jupyter-widgets/controls",
          "model_name": "FloatProgressModel",
          "model_module_version": "1.5.0",
          "state": {
            "_view_name": "ProgressView",
            "style": "IPY_MODEL_5c417c13bc7d4a14a006eedd1879f01f",
            "_dom_classes": [],
            "description": "",
            "_model_name": "FloatProgressModel",
            "bar_style": "success",
            "max": 629,
            "_view_module": "@jupyter-widgets/controls",
            "_model_module_version": "1.5.0",
            "value": 629,
            "_view_count": null,
            "_view_module_version": "1.5.0",
            "orientation": "horizontal",
            "min": 0,
            "description_tooltip": null,
            "_model_module": "@jupyter-widgets/controls",
            "layout": "IPY_MODEL_178dd044cef94f1fa95983fe637198a6"
          }
        },
        "3aca240dbfea4e5babdd831a387675b5": {
          "model_module": "@jupyter-widgets/controls",
          "model_name": "HTMLModel",
          "model_module_version": "1.5.0",
          "state": {
            "_view_name": "HTMLView",
            "style": "IPY_MODEL_7d050d7578644912ab14392ad8f7841f",
            "_dom_classes": [],
            "description": "",
            "_model_name": "HTMLModel",
            "placeholder": "​",
            "_view_module": "@jupyter-widgets/controls",
            "_model_module_version": "1.5.0",
            "value": " 629/629 [00:00&lt;00:00, 13.7kB/s]",
            "_view_count": null,
            "_view_module_version": "1.5.0",
            "description_tooltip": null,
            "_model_module": "@jupyter-widgets/controls",
            "layout": "IPY_MODEL_0ec35c5e6e8541559c28f0732be8b1da"
          }
        },
        "5eaed47c3c5d41e7b023dbc99d556d11": {
          "model_module": "@jupyter-widgets/controls",
          "model_name": "DescriptionStyleModel",
          "model_module_version": "1.5.0",
          "state": {
            "_view_name": "StyleView",
            "_model_name": "DescriptionStyleModel",
            "description_width": "",
            "_view_module": "@jupyter-widgets/base",
            "_model_module_version": "1.5.0",
            "_view_count": null,
            "_view_module_version": "1.2.0",
            "_model_module": "@jupyter-widgets/controls"
          }
        },
        "6ad5ec3f4d064f1cb2273ffd1f634cc1": {
          "model_module": "@jupyter-widgets/base",
          "model_name": "LayoutModel",
          "model_module_version": "1.2.0",
          "state": {
            "_view_name": "LayoutView",
            "grid_template_rows": null,
            "right": null,
            "justify_content": null,
            "_view_module": "@jupyter-widgets/base",
            "overflow": null,
            "_model_module_version": "1.2.0",
            "_view_count": null,
            "flex_flow": null,
            "width": null,
            "min_width": null,
            "border": null,
            "align_items": null,
            "bottom": null,
            "_model_module": "@jupyter-widgets/base",
            "top": null,
            "grid_column": null,
            "overflow_y": null,
            "overflow_x": null,
            "grid_auto_flow": null,
            "grid_area": null,
            "grid_template_columns": null,
            "flex": null,
            "_model_name": "LayoutModel",
            "justify_items": null,
            "grid_row": null,
            "max_height": null,
            "align_content": null,
            "visibility": null,
            "align_self": null,
            "height": null,
            "min_height": null,
            "padding": null,
            "grid_auto_rows": null,
            "grid_gap": null,
            "max_width": null,
            "order": null,
            "_view_module_version": "1.2.0",
            "grid_template_areas": null,
            "object_position": null,
            "object_fit": null,
            "grid_auto_columns": null,
            "margin": null,
            "display": null,
            "left": null
          }
        },
        "5c417c13bc7d4a14a006eedd1879f01f": {
          "model_module": "@jupyter-widgets/controls",
          "model_name": "ProgressStyleModel",
          "model_module_version": "1.5.0",
          "state": {
            "_view_name": "StyleView",
            "_model_name": "ProgressStyleModel",
            "description_width": "",
            "_view_module": "@jupyter-widgets/base",
            "_model_module_version": "1.5.0",
            "_view_count": null,
            "_view_module_version": "1.2.0",
            "bar_color": null,
            "_model_module": "@jupyter-widgets/controls"
          }
        },
        "178dd044cef94f1fa95983fe637198a6": {
          "model_module": "@jupyter-widgets/base",
          "model_name": "LayoutModel",
          "model_module_version": "1.2.0",
          "state": {
            "_view_name": "LayoutView",
            "grid_template_rows": null,
            "right": null,
            "justify_content": null,
            "_view_module": "@jupyter-widgets/base",
            "overflow": null,
            "_model_module_version": "1.2.0",
            "_view_count": null,
            "flex_flow": null,
            "width": null,
            "min_width": null,
            "border": null,
            "align_items": null,
            "bottom": null,
            "_model_module": "@jupyter-widgets/base",
            "top": null,
            "grid_column": null,
            "overflow_y": null,
            "overflow_x": null,
            "grid_auto_flow": null,
            "grid_area": null,
            "grid_template_columns": null,
            "flex": null,
            "_model_name": "LayoutModel",
            "justify_items": null,
            "grid_row": null,
            "max_height": null,
            "align_content": null,
            "visibility": null,
            "align_self": null,
            "height": null,
            "min_height": null,
            "padding": null,
            "grid_auto_rows": null,
            "grid_gap": null,
            "max_width": null,
            "order": null,
            "_view_module_version": "1.2.0",
            "grid_template_areas": null,
            "object_position": null,
            "object_fit": null,
            "grid_auto_columns": null,
            "margin": null,
            "display": null,
            "left": null
          }
        },
        "7d050d7578644912ab14392ad8f7841f": {
          "model_module": "@jupyter-widgets/controls",
          "model_name": "DescriptionStyleModel",
          "model_module_version": "1.5.0",
          "state": {
            "_view_name": "StyleView",
            "_model_name": "DescriptionStyleModel",
            "description_width": "",
            "_view_module": "@jupyter-widgets/base",
            "_model_module_version": "1.5.0",
            "_view_count": null,
            "_view_module_version": "1.2.0",
            "_model_module": "@jupyter-widgets/controls"
          }
        },
        "0ec35c5e6e8541559c28f0732be8b1da": {
          "model_module": "@jupyter-widgets/base",
          "model_name": "LayoutModel",
          "model_module_version": "1.2.0",
          "state": {
            "_view_name": "LayoutView",
            "grid_template_rows": null,
            "right": null,
            "justify_content": null,
            "_view_module": "@jupyter-widgets/base",
            "overflow": null,
            "_model_module_version": "1.2.0",
            "_view_count": null,
            "flex_flow": null,
            "width": null,
            "min_width": null,
            "border": null,
            "align_items": null,
            "bottom": null,
            "_model_module": "@jupyter-widgets/base",
            "top": null,
            "grid_column": null,
            "overflow_y": null,
            "overflow_x": null,
            "grid_auto_flow": null,
            "grid_area": null,
            "grid_template_columns": null,
            "flex": null,
            "_model_name": "LayoutModel",
            "justify_items": null,
            "grid_row": null,
            "max_height": null,
            "align_content": null,
            "visibility": null,
            "align_self": null,
            "height": null,
            "min_height": null,
            "padding": null,
            "grid_auto_rows": null,
            "grid_gap": null,
            "max_width": null,
            "order": null,
            "_view_module_version": "1.2.0",
            "grid_template_areas": null,
            "object_position": null,
            "object_fit": null,
            "grid_auto_columns": null,
            "margin": null,
            "display": null,
            "left": null
          }
        },
        "64b3af56db564f758316057b5b7875b5": {
          "model_module": "@jupyter-widgets/controls",
          "model_name": "HBoxModel",
          "model_module_version": "1.5.0",
          "state": {
            "_view_name": "HBoxView",
            "_dom_classes": [],
            "_model_name": "HBoxModel",
            "_view_module": "@jupyter-widgets/controls",
            "_model_module_version": "1.5.0",
            "_view_count": null,
            "_view_module_version": "1.5.0",
            "box_style": "",
            "layout": "IPY_MODEL_4c181c198cba446391e4df5268c27edc",
            "_model_module": "@jupyter-widgets/controls",
            "children": [
              "IPY_MODEL_cc5f093e94444e9492253e4bd2e85114",
              "IPY_MODEL_7f0229555b194827ad268b24ae8f30d1",
              "IPY_MODEL_ba8bcba80b0c4f21aba360686374f742"
            ]
          }
        },
        "4c181c198cba446391e4df5268c27edc": {
          "model_module": "@jupyter-widgets/base",
          "model_name": "LayoutModel",
          "model_module_version": "1.2.0",
          "state": {
            "_view_name": "LayoutView",
            "grid_template_rows": null,
            "right": null,
            "justify_content": null,
            "_view_module": "@jupyter-widgets/base",
            "overflow": null,
            "_model_module_version": "1.2.0",
            "_view_count": null,
            "flex_flow": null,
            "width": null,
            "min_width": null,
            "border": null,
            "align_items": null,
            "bottom": null,
            "_model_module": "@jupyter-widgets/base",
            "top": null,
            "grid_column": null,
            "overflow_y": null,
            "overflow_x": null,
            "grid_auto_flow": null,
            "grid_area": null,
            "grid_template_columns": null,
            "flex": null,
            "_model_name": "LayoutModel",
            "justify_items": null,
            "grid_row": null,
            "max_height": null,
            "align_content": null,
            "visibility": null,
            "align_self": null,
            "height": null,
            "min_height": null,
            "padding": null,
            "grid_auto_rows": null,
            "grid_gap": null,
            "max_width": null,
            "order": null,
            "_view_module_version": "1.2.0",
            "grid_template_areas": null,
            "object_position": null,
            "object_fit": null,
            "grid_auto_columns": null,
            "margin": null,
            "display": null,
            "left": null
          }
        },
        "cc5f093e94444e9492253e4bd2e85114": {
          "model_module": "@jupyter-widgets/controls",
          "model_name": "HTMLModel",
          "model_module_version": "1.5.0",
          "state": {
            "_view_name": "HTMLView",
            "style": "IPY_MODEL_69d38538b0864730b0d8051d56f19d2d",
            "_dom_classes": [],
            "description": "",
            "_model_name": "HTMLModel",
            "placeholder": "​",
            "_view_module": "@jupyter-widgets/controls",
            "_model_module_version": "1.5.0",
            "value": "Downloading: 100%",
            "_view_count": null,
            "_view_module_version": "1.5.0",
            "description_tooltip": null,
            "_model_module": "@jupyter-widgets/controls",
            "layout": "IPY_MODEL_69320ae88d414fbe9808d32a3ec3555c"
          }
        },
        "7f0229555b194827ad268b24ae8f30d1": {
          "model_module": "@jupyter-widgets/controls",
          "model_name": "FloatProgressModel",
          "model_module_version": "1.5.0",
          "state": {
            "_view_name": "ProgressView",
            "style": "IPY_MODEL_9b8a3ec3252642d4a4cede2974ed167b",
            "_dom_classes": [],
            "description": "",
            "_model_name": "FloatProgressModel",
            "bar_style": "success",
            "max": 267844284,
            "_view_module": "@jupyter-widgets/controls",
            "_model_module_version": "1.5.0",
            "value": 267844284,
            "_view_count": null,
            "_view_module_version": "1.5.0",
            "orientation": "horizontal",
            "min": 0,
            "description_tooltip": null,
            "_model_module": "@jupyter-widgets/controls",
            "layout": "IPY_MODEL_aa0d1618ef3f45c2a6ab97365a860de1"
          }
        },
        "ba8bcba80b0c4f21aba360686374f742": {
          "model_module": "@jupyter-widgets/controls",
          "model_name": "HTMLModel",
          "model_module_version": "1.5.0",
          "state": {
            "_view_name": "HTMLView",
            "style": "IPY_MODEL_1241a9f127e74a5b9c0eaea68e8af94e",
            "_dom_classes": [],
            "description": "",
            "_model_name": "HTMLModel",
            "placeholder": "​",
            "_view_module": "@jupyter-widgets/controls",
            "_model_module_version": "1.5.0",
            "value": " 255M/255M [00:08&lt;00:00, 33.1MB/s]",
            "_view_count": null,
            "_view_module_version": "1.5.0",
            "description_tooltip": null,
            "_model_module": "@jupyter-widgets/controls",
            "layout": "IPY_MODEL_2b68c2a7bb2941a4af24036a331feb80"
          }
        },
        "69d38538b0864730b0d8051d56f19d2d": {
          "model_module": "@jupyter-widgets/controls",
          "model_name": "DescriptionStyleModel",
          "model_module_version": "1.5.0",
          "state": {
            "_view_name": "StyleView",
            "_model_name": "DescriptionStyleModel",
            "description_width": "",
            "_view_module": "@jupyter-widgets/base",
            "_model_module_version": "1.5.0",
            "_view_count": null,
            "_view_module_version": "1.2.0",
            "_model_module": "@jupyter-widgets/controls"
          }
        },
        "69320ae88d414fbe9808d32a3ec3555c": {
          "model_module": "@jupyter-widgets/base",
          "model_name": "LayoutModel",
          "model_module_version": "1.2.0",
          "state": {
            "_view_name": "LayoutView",
            "grid_template_rows": null,
            "right": null,
            "justify_content": null,
            "_view_module": "@jupyter-widgets/base",
            "overflow": null,
            "_model_module_version": "1.2.0",
            "_view_count": null,
            "flex_flow": null,
            "width": null,
            "min_width": null,
            "border": null,
            "align_items": null,
            "bottom": null,
            "_model_module": "@jupyter-widgets/base",
            "top": null,
            "grid_column": null,
            "overflow_y": null,
            "overflow_x": null,
            "grid_auto_flow": null,
            "grid_area": null,
            "grid_template_columns": null,
            "flex": null,
            "_model_name": "LayoutModel",
            "justify_items": null,
            "grid_row": null,
            "max_height": null,
            "align_content": null,
            "visibility": null,
            "align_self": null,
            "height": null,
            "min_height": null,
            "padding": null,
            "grid_auto_rows": null,
            "grid_gap": null,
            "max_width": null,
            "order": null,
            "_view_module_version": "1.2.0",
            "grid_template_areas": null,
            "object_position": null,
            "object_fit": null,
            "grid_auto_columns": null,
            "margin": null,
            "display": null,
            "left": null
          }
        },
        "9b8a3ec3252642d4a4cede2974ed167b": {
          "model_module": "@jupyter-widgets/controls",
          "model_name": "ProgressStyleModel",
          "model_module_version": "1.5.0",
          "state": {
            "_view_name": "StyleView",
            "_model_name": "ProgressStyleModel",
            "description_width": "",
            "_view_module": "@jupyter-widgets/base",
            "_model_module_version": "1.5.0",
            "_view_count": null,
            "_view_module_version": "1.2.0",
            "bar_color": null,
            "_model_module": "@jupyter-widgets/controls"
          }
        },
        "aa0d1618ef3f45c2a6ab97365a860de1": {
          "model_module": "@jupyter-widgets/base",
          "model_name": "LayoutModel",
          "model_module_version": "1.2.0",
          "state": {
            "_view_name": "LayoutView",
            "grid_template_rows": null,
            "right": null,
            "justify_content": null,
            "_view_module": "@jupyter-widgets/base",
            "overflow": null,
            "_model_module_version": "1.2.0",
            "_view_count": null,
            "flex_flow": null,
            "width": null,
            "min_width": null,
            "border": null,
            "align_items": null,
            "bottom": null,
            "_model_module": "@jupyter-widgets/base",
            "top": null,
            "grid_column": null,
            "overflow_y": null,
            "overflow_x": null,
            "grid_auto_flow": null,
            "grid_area": null,
            "grid_template_columns": null,
            "flex": null,
            "_model_name": "LayoutModel",
            "justify_items": null,
            "grid_row": null,
            "max_height": null,
            "align_content": null,
            "visibility": null,
            "align_self": null,
            "height": null,
            "min_height": null,
            "padding": null,
            "grid_auto_rows": null,
            "grid_gap": null,
            "max_width": null,
            "order": null,
            "_view_module_version": "1.2.0",
            "grid_template_areas": null,
            "object_position": null,
            "object_fit": null,
            "grid_auto_columns": null,
            "margin": null,
            "display": null,
            "left": null
          }
        },
        "1241a9f127e74a5b9c0eaea68e8af94e": {
          "model_module": "@jupyter-widgets/controls",
          "model_name": "DescriptionStyleModel",
          "model_module_version": "1.5.0",
          "state": {
            "_view_name": "StyleView",
            "_model_name": "DescriptionStyleModel",
            "description_width": "",
            "_view_module": "@jupyter-widgets/base",
            "_model_module_version": "1.5.0",
            "_view_count": null,
            "_view_module_version": "1.2.0",
            "_model_module": "@jupyter-widgets/controls"
          }
        },
        "2b68c2a7bb2941a4af24036a331feb80": {
          "model_module": "@jupyter-widgets/base",
          "model_name": "LayoutModel",
          "model_module_version": "1.2.0",
          "state": {
            "_view_name": "LayoutView",
            "grid_template_rows": null,
            "right": null,
            "justify_content": null,
            "_view_module": "@jupyter-widgets/base",
            "overflow": null,
            "_model_module_version": "1.2.0",
            "_view_count": null,
            "flex_flow": null,
            "width": null,
            "min_width": null,
            "border": null,
            "align_items": null,
            "bottom": null,
            "_model_module": "@jupyter-widgets/base",
            "top": null,
            "grid_column": null,
            "overflow_y": null,
            "overflow_x": null,
            "grid_auto_flow": null,
            "grid_area": null,
            "grid_template_columns": null,
            "flex": null,
            "_model_name": "LayoutModel",
            "justify_items": null,
            "grid_row": null,
            "max_height": null,
            "align_content": null,
            "visibility": null,
            "align_self": null,
            "height": null,
            "min_height": null,
            "padding": null,
            "grid_auto_rows": null,
            "grid_gap": null,
            "max_width": null,
            "order": null,
            "_view_module_version": "1.2.0",
            "grid_template_areas": null,
            "object_position": null,
            "object_fit": null,
            "grid_auto_columns": null,
            "margin": null,
            "display": null,
            "left": null
          }
        },
        "70a6d93920c346e5873d54e4bca25a70": {
          "model_module": "@jupyter-widgets/controls",
          "model_name": "HBoxModel",
          "model_module_version": "1.5.0",
          "state": {
            "_view_name": "HBoxView",
            "_dom_classes": [],
            "_model_name": "HBoxModel",
            "_view_module": "@jupyter-widgets/controls",
            "_model_module_version": "1.5.0",
            "_view_count": null,
            "_view_module_version": "1.5.0",
            "box_style": "",
            "layout": "IPY_MODEL_b9c1ccca888445c681c84a7ad1cd9400",
            "_model_module": "@jupyter-widgets/controls",
            "children": [
              "IPY_MODEL_fa35532f7c914788ab9610cebfa76435",
              "IPY_MODEL_78483fcd80c34df5b961980113f9aa1c",
              "IPY_MODEL_5861690b62ab46f5be801cafb5da3162"
            ]
          }
        },
        "b9c1ccca888445c681c84a7ad1cd9400": {
          "model_module": "@jupyter-widgets/base",
          "model_name": "LayoutModel",
          "model_module_version": "1.2.0",
          "state": {
            "_view_name": "LayoutView",
            "grid_template_rows": null,
            "right": null,
            "justify_content": null,
            "_view_module": "@jupyter-widgets/base",
            "overflow": null,
            "_model_module_version": "1.2.0",
            "_view_count": null,
            "flex_flow": null,
            "width": null,
            "min_width": null,
            "border": null,
            "align_items": null,
            "bottom": null,
            "_model_module": "@jupyter-widgets/base",
            "top": null,
            "grid_column": null,
            "overflow_y": null,
            "overflow_x": null,
            "grid_auto_flow": null,
            "grid_area": null,
            "grid_template_columns": null,
            "flex": null,
            "_model_name": "LayoutModel",
            "justify_items": null,
            "grid_row": null,
            "max_height": null,
            "align_content": null,
            "visibility": null,
            "align_self": null,
            "height": null,
            "min_height": null,
            "padding": null,
            "grid_auto_rows": null,
            "grid_gap": null,
            "max_width": null,
            "order": null,
            "_view_module_version": "1.2.0",
            "grid_template_areas": null,
            "object_position": null,
            "object_fit": null,
            "grid_auto_columns": null,
            "margin": null,
            "display": null,
            "left": null
          }
        },
        "fa35532f7c914788ab9610cebfa76435": {
          "model_module": "@jupyter-widgets/controls",
          "model_name": "HTMLModel",
          "model_module_version": "1.5.0",
          "state": {
            "_view_name": "HTMLView",
            "style": "IPY_MODEL_60188a96303d4df495c1f9db74003a95",
            "_dom_classes": [],
            "description": "",
            "_model_name": "HTMLModel",
            "placeholder": "​",
            "_view_module": "@jupyter-widgets/controls",
            "_model_module_version": "1.5.0",
            "value": "Downloading: 100%",
            "_view_count": null,
            "_view_module_version": "1.5.0",
            "description_tooltip": null,
            "_model_module": "@jupyter-widgets/controls",
            "layout": "IPY_MODEL_c79391b3389248ab881dafa433f4b051"
          }
        },
        "78483fcd80c34df5b961980113f9aa1c": {
          "model_module": "@jupyter-widgets/controls",
          "model_name": "FloatProgressModel",
          "model_module_version": "1.5.0",
          "state": {
            "_view_name": "ProgressView",
            "style": "IPY_MODEL_1c0e87cc908a4c51b4e161e50a9b0846",
            "_dom_classes": [],
            "description": "",
            "_model_name": "FloatProgressModel",
            "bar_style": "success",
            "max": 48,
            "_view_module": "@jupyter-widgets/controls",
            "_model_module_version": "1.5.0",
            "value": 48,
            "_view_count": null,
            "_view_module_version": "1.5.0",
            "orientation": "horizontal",
            "min": 0,
            "description_tooltip": null,
            "_model_module": "@jupyter-widgets/controls",
            "layout": "IPY_MODEL_c815aaaad0f1444b8ce48916dc701cc8"
          }
        },
        "5861690b62ab46f5be801cafb5da3162": {
          "model_module": "@jupyter-widgets/controls",
          "model_name": "HTMLModel",
          "model_module_version": "1.5.0",
          "state": {
            "_view_name": "HTMLView",
            "style": "IPY_MODEL_3d6066c68b624f85803f11503ba07ce2",
            "_dom_classes": [],
            "description": "",
            "_model_name": "HTMLModel",
            "placeholder": "​",
            "_view_module": "@jupyter-widgets/controls",
            "_model_module_version": "1.5.0",
            "value": " 48.0/48.0 [00:00&lt;00:00, 1.10kB/s]",
            "_view_count": null,
            "_view_module_version": "1.5.0",
            "description_tooltip": null,
            "_model_module": "@jupyter-widgets/controls",
            "layout": "IPY_MODEL_c618ffb84a904213b0d9d51552c2f3b1"
          }
        },
        "60188a96303d4df495c1f9db74003a95": {
          "model_module": "@jupyter-widgets/controls",
          "model_name": "DescriptionStyleModel",
          "model_module_version": "1.5.0",
          "state": {
            "_view_name": "StyleView",
            "_model_name": "DescriptionStyleModel",
            "description_width": "",
            "_view_module": "@jupyter-widgets/base",
            "_model_module_version": "1.5.0",
            "_view_count": null,
            "_view_module_version": "1.2.0",
            "_model_module": "@jupyter-widgets/controls"
          }
        },
        "c79391b3389248ab881dafa433f4b051": {
          "model_module": "@jupyter-widgets/base",
          "model_name": "LayoutModel",
          "model_module_version": "1.2.0",
          "state": {
            "_view_name": "LayoutView",
            "grid_template_rows": null,
            "right": null,
            "justify_content": null,
            "_view_module": "@jupyter-widgets/base",
            "overflow": null,
            "_model_module_version": "1.2.0",
            "_view_count": null,
            "flex_flow": null,
            "width": null,
            "min_width": null,
            "border": null,
            "align_items": null,
            "bottom": null,
            "_model_module": "@jupyter-widgets/base",
            "top": null,
            "grid_column": null,
            "overflow_y": null,
            "overflow_x": null,
            "grid_auto_flow": null,
            "grid_area": null,
            "grid_template_columns": null,
            "flex": null,
            "_model_name": "LayoutModel",
            "justify_items": null,
            "grid_row": null,
            "max_height": null,
            "align_content": null,
            "visibility": null,
            "align_self": null,
            "height": null,
            "min_height": null,
            "padding": null,
            "grid_auto_rows": null,
            "grid_gap": null,
            "max_width": null,
            "order": null,
            "_view_module_version": "1.2.0",
            "grid_template_areas": null,
            "object_position": null,
            "object_fit": null,
            "grid_auto_columns": null,
            "margin": null,
            "display": null,
            "left": null
          }
        },
        "1c0e87cc908a4c51b4e161e50a9b0846": {
          "model_module": "@jupyter-widgets/controls",
          "model_name": "ProgressStyleModel",
          "model_module_version": "1.5.0",
          "state": {
            "_view_name": "StyleView",
            "_model_name": "ProgressStyleModel",
            "description_width": "",
            "_view_module": "@jupyter-widgets/base",
            "_model_module_version": "1.5.0",
            "_view_count": null,
            "_view_module_version": "1.2.0",
            "bar_color": null,
            "_model_module": "@jupyter-widgets/controls"
          }
        },
        "c815aaaad0f1444b8ce48916dc701cc8": {
          "model_module": "@jupyter-widgets/base",
          "model_name": "LayoutModel",
          "model_module_version": "1.2.0",
          "state": {
            "_view_name": "LayoutView",
            "grid_template_rows": null,
            "right": null,
            "justify_content": null,
            "_view_module": "@jupyter-widgets/base",
            "overflow": null,
            "_model_module_version": "1.2.0",
            "_view_count": null,
            "flex_flow": null,
            "width": null,
            "min_width": null,
            "border": null,
            "align_items": null,
            "bottom": null,
            "_model_module": "@jupyter-widgets/base",
            "top": null,
            "grid_column": null,
            "overflow_y": null,
            "overflow_x": null,
            "grid_auto_flow": null,
            "grid_area": null,
            "grid_template_columns": null,
            "flex": null,
            "_model_name": "LayoutModel",
            "justify_items": null,
            "grid_row": null,
            "max_height": null,
            "align_content": null,
            "visibility": null,
            "align_self": null,
            "height": null,
            "min_height": null,
            "padding": null,
            "grid_auto_rows": null,
            "grid_gap": null,
            "max_width": null,
            "order": null,
            "_view_module_version": "1.2.0",
            "grid_template_areas": null,
            "object_position": null,
            "object_fit": null,
            "grid_auto_columns": null,
            "margin": null,
            "display": null,
            "left": null
          }
        },
        "3d6066c68b624f85803f11503ba07ce2": {
          "model_module": "@jupyter-widgets/controls",
          "model_name": "DescriptionStyleModel",
          "model_module_version": "1.5.0",
          "state": {
            "_view_name": "StyleView",
            "_model_name": "DescriptionStyleModel",
            "description_width": "",
            "_view_module": "@jupyter-widgets/base",
            "_model_module_version": "1.5.0",
            "_view_count": null,
            "_view_module_version": "1.2.0",
            "_model_module": "@jupyter-widgets/controls"
          }
        },
        "c618ffb84a904213b0d9d51552c2f3b1": {
          "model_module": "@jupyter-widgets/base",
          "model_name": "LayoutModel",
          "model_module_version": "1.2.0",
          "state": {
            "_view_name": "LayoutView",
            "grid_template_rows": null,
            "right": null,
            "justify_content": null,
            "_view_module": "@jupyter-widgets/base",
            "overflow": null,
            "_model_module_version": "1.2.0",
            "_view_count": null,
            "flex_flow": null,
            "width": null,
            "min_width": null,
            "border": null,
            "align_items": null,
            "bottom": null,
            "_model_module": "@jupyter-widgets/base",
            "top": null,
            "grid_column": null,
            "overflow_y": null,
            "overflow_x": null,
            "grid_auto_flow": null,
            "grid_area": null,
            "grid_template_columns": null,
            "flex": null,
            "_model_name": "LayoutModel",
            "justify_items": null,
            "grid_row": null,
            "max_height": null,
            "align_content": null,
            "visibility": null,
            "align_self": null,
            "height": null,
            "min_height": null,
            "padding": null,
            "grid_auto_rows": null,
            "grid_gap": null,
            "max_width": null,
            "order": null,
            "_view_module_version": "1.2.0",
            "grid_template_areas": null,
            "object_position": null,
            "object_fit": null,
            "grid_auto_columns": null,
            "margin": null,
            "display": null,
            "left": null
          }
        },
        "c62eb66e1cd9475897779b482285c7a7": {
          "model_module": "@jupyter-widgets/controls",
          "model_name": "HBoxModel",
          "model_module_version": "1.5.0",
          "state": {
            "_view_name": "HBoxView",
            "_dom_classes": [],
            "_model_name": "HBoxModel",
            "_view_module": "@jupyter-widgets/controls",
            "_model_module_version": "1.5.0",
            "_view_count": null,
            "_view_module_version": "1.5.0",
            "box_style": "",
            "layout": "IPY_MODEL_eb28ba32b4da4b2d9de54f3772f0c444",
            "_model_module": "@jupyter-widgets/controls",
            "children": [
              "IPY_MODEL_f7b7dbb4485d403bbe262296f705d5d3",
              "IPY_MODEL_9d77c672ab614b25b4e592f86927c926",
              "IPY_MODEL_1ea0c94a92ee4e5c9adf59b82a395a86"
            ]
          }
        },
        "eb28ba32b4da4b2d9de54f3772f0c444": {
          "model_module": "@jupyter-widgets/base",
          "model_name": "LayoutModel",
          "model_module_version": "1.2.0",
          "state": {
            "_view_name": "LayoutView",
            "grid_template_rows": null,
            "right": null,
            "justify_content": null,
            "_view_module": "@jupyter-widgets/base",
            "overflow": null,
            "_model_module_version": "1.2.0",
            "_view_count": null,
            "flex_flow": null,
            "width": null,
            "min_width": null,
            "border": null,
            "align_items": null,
            "bottom": null,
            "_model_module": "@jupyter-widgets/base",
            "top": null,
            "grid_column": null,
            "overflow_y": null,
            "overflow_x": null,
            "grid_auto_flow": null,
            "grid_area": null,
            "grid_template_columns": null,
            "flex": null,
            "_model_name": "LayoutModel",
            "justify_items": null,
            "grid_row": null,
            "max_height": null,
            "align_content": null,
            "visibility": null,
            "align_self": null,
            "height": null,
            "min_height": null,
            "padding": null,
            "grid_auto_rows": null,
            "grid_gap": null,
            "max_width": null,
            "order": null,
            "_view_module_version": "1.2.0",
            "grid_template_areas": null,
            "object_position": null,
            "object_fit": null,
            "grid_auto_columns": null,
            "margin": null,
            "display": null,
            "left": null
          }
        },
        "f7b7dbb4485d403bbe262296f705d5d3": {
          "model_module": "@jupyter-widgets/controls",
          "model_name": "HTMLModel",
          "model_module_version": "1.5.0",
          "state": {
            "_view_name": "HTMLView",
            "style": "IPY_MODEL_efc38f42464c49d19deaa48b6d9a1b8a",
            "_dom_classes": [],
            "description": "",
            "_model_name": "HTMLModel",
            "placeholder": "​",
            "_view_module": "@jupyter-widgets/controls",
            "_model_module_version": "1.5.0",
            "value": "Downloading: 100%",
            "_view_count": null,
            "_view_module_version": "1.5.0",
            "description_tooltip": null,
            "_model_module": "@jupyter-widgets/controls",
            "layout": "IPY_MODEL_96d632df46b44590a4dd55e64fed6596"
          }
        },
        "9d77c672ab614b25b4e592f86927c926": {
          "model_module": "@jupyter-widgets/controls",
          "model_name": "FloatProgressModel",
          "model_module_version": "1.5.0",
          "state": {
            "_view_name": "ProgressView",
            "style": "IPY_MODEL_688062e14e9b44c4ba1a36a275498480",
            "_dom_classes": [],
            "description": "",
            "_model_name": "FloatProgressModel",
            "bar_style": "success",
            "max": 231508,
            "_view_module": "@jupyter-widgets/controls",
            "_model_module_version": "1.5.0",
            "value": 231508,
            "_view_count": null,
            "_view_module_version": "1.5.0",
            "orientation": "horizontal",
            "min": 0,
            "description_tooltip": null,
            "_model_module": "@jupyter-widgets/controls",
            "layout": "IPY_MODEL_a6d2ed2d0c5340fb86fd3e5ea5f32de4"
          }
        },
        "1ea0c94a92ee4e5c9adf59b82a395a86": {
          "model_module": "@jupyter-widgets/controls",
          "model_name": "HTMLModel",
          "model_module_version": "1.5.0",
          "state": {
            "_view_name": "HTMLView",
            "style": "IPY_MODEL_ba2373820cf649ed9e9dcf3035e741ba",
            "_dom_classes": [],
            "description": "",
            "_model_name": "HTMLModel",
            "placeholder": "​",
            "_view_module": "@jupyter-widgets/controls",
            "_model_module_version": "1.5.0",
            "value": " 226k/226k [00:00&lt;00:00, 694kB/s]",
            "_view_count": null,
            "_view_module_version": "1.5.0",
            "description_tooltip": null,
            "_model_module": "@jupyter-widgets/controls",
            "layout": "IPY_MODEL_f9b74c55bfff4bdb8e67efe68c0590c2"
          }
        },
        "efc38f42464c49d19deaa48b6d9a1b8a": {
          "model_module": "@jupyter-widgets/controls",
          "model_name": "DescriptionStyleModel",
          "model_module_version": "1.5.0",
          "state": {
            "_view_name": "StyleView",
            "_model_name": "DescriptionStyleModel",
            "description_width": "",
            "_view_module": "@jupyter-widgets/base",
            "_model_module_version": "1.5.0",
            "_view_count": null,
            "_view_module_version": "1.2.0",
            "_model_module": "@jupyter-widgets/controls"
          }
        },
        "96d632df46b44590a4dd55e64fed6596": {
          "model_module": "@jupyter-widgets/base",
          "model_name": "LayoutModel",
          "model_module_version": "1.2.0",
          "state": {
            "_view_name": "LayoutView",
            "grid_template_rows": null,
            "right": null,
            "justify_content": null,
            "_view_module": "@jupyter-widgets/base",
            "overflow": null,
            "_model_module_version": "1.2.0",
            "_view_count": null,
            "flex_flow": null,
            "width": null,
            "min_width": null,
            "border": null,
            "align_items": null,
            "bottom": null,
            "_model_module": "@jupyter-widgets/base",
            "top": null,
            "grid_column": null,
            "overflow_y": null,
            "overflow_x": null,
            "grid_auto_flow": null,
            "grid_area": null,
            "grid_template_columns": null,
            "flex": null,
            "_model_name": "LayoutModel",
            "justify_items": null,
            "grid_row": null,
            "max_height": null,
            "align_content": null,
            "visibility": null,
            "align_self": null,
            "height": null,
            "min_height": null,
            "padding": null,
            "grid_auto_rows": null,
            "grid_gap": null,
            "max_width": null,
            "order": null,
            "_view_module_version": "1.2.0",
            "grid_template_areas": null,
            "object_position": null,
            "object_fit": null,
            "grid_auto_columns": null,
            "margin": null,
            "display": null,
            "left": null
          }
        },
        "688062e14e9b44c4ba1a36a275498480": {
          "model_module": "@jupyter-widgets/controls",
          "model_name": "ProgressStyleModel",
          "model_module_version": "1.5.0",
          "state": {
            "_view_name": "StyleView",
            "_model_name": "ProgressStyleModel",
            "description_width": "",
            "_view_module": "@jupyter-widgets/base",
            "_model_module_version": "1.5.0",
            "_view_count": null,
            "_view_module_version": "1.2.0",
            "bar_color": null,
            "_model_module": "@jupyter-widgets/controls"
          }
        },
        "a6d2ed2d0c5340fb86fd3e5ea5f32de4": {
          "model_module": "@jupyter-widgets/base",
          "model_name": "LayoutModel",
          "model_module_version": "1.2.0",
          "state": {
            "_view_name": "LayoutView",
            "grid_template_rows": null,
            "right": null,
            "justify_content": null,
            "_view_module": "@jupyter-widgets/base",
            "overflow": null,
            "_model_module_version": "1.2.0",
            "_view_count": null,
            "flex_flow": null,
            "width": null,
            "min_width": null,
            "border": null,
            "align_items": null,
            "bottom": null,
            "_model_module": "@jupyter-widgets/base",
            "top": null,
            "grid_column": null,
            "overflow_y": null,
            "overflow_x": null,
            "grid_auto_flow": null,
            "grid_area": null,
            "grid_template_columns": null,
            "flex": null,
            "_model_name": "LayoutModel",
            "justify_items": null,
            "grid_row": null,
            "max_height": null,
            "align_content": null,
            "visibility": null,
            "align_self": null,
            "height": null,
            "min_height": null,
            "padding": null,
            "grid_auto_rows": null,
            "grid_gap": null,
            "max_width": null,
            "order": null,
            "_view_module_version": "1.2.0",
            "grid_template_areas": null,
            "object_position": null,
            "object_fit": null,
            "grid_auto_columns": null,
            "margin": null,
            "display": null,
            "left": null
          }
        },
        "ba2373820cf649ed9e9dcf3035e741ba": {
          "model_module": "@jupyter-widgets/controls",
          "model_name": "DescriptionStyleModel",
          "model_module_version": "1.5.0",
          "state": {
            "_view_name": "StyleView",
            "_model_name": "DescriptionStyleModel",
            "description_width": "",
            "_view_module": "@jupyter-widgets/base",
            "_model_module_version": "1.5.0",
            "_view_count": null,
            "_view_module_version": "1.2.0",
            "_model_module": "@jupyter-widgets/controls"
          }
        },
        "f9b74c55bfff4bdb8e67efe68c0590c2": {
          "model_module": "@jupyter-widgets/base",
          "model_name": "LayoutModel",
          "model_module_version": "1.2.0",
          "state": {
            "_view_name": "LayoutView",
            "grid_template_rows": null,
            "right": null,
            "justify_content": null,
            "_view_module": "@jupyter-widgets/base",
            "overflow": null,
            "_model_module_version": "1.2.0",
            "_view_count": null,
            "flex_flow": null,
            "width": null,
            "min_width": null,
            "border": null,
            "align_items": null,
            "bottom": null,
            "_model_module": "@jupyter-widgets/base",
            "top": null,
            "grid_column": null,
            "overflow_y": null,
            "overflow_x": null,
            "grid_auto_flow": null,
            "grid_area": null,
            "grid_template_columns": null,
            "flex": null,
            "_model_name": "LayoutModel",
            "justify_items": null,
            "grid_row": null,
            "max_height": null,
            "align_content": null,
            "visibility": null,
            "align_self": null,
            "height": null,
            "min_height": null,
            "padding": null,
            "grid_auto_rows": null,
            "grid_gap": null,
            "max_width": null,
            "order": null,
            "_view_module_version": "1.2.0",
            "grid_template_areas": null,
            "object_position": null,
            "object_fit": null,
            "grid_auto_columns": null,
            "margin": null,
            "display": null,
            "left": null
          }
        }
      }
    }
  },
  "cells": [
    {
      "cell_type": "markdown",
      "metadata": {
        "id": "view-in-github",
        "colab_type": "text"
      },
      "source": [
        "<a href=\"https://colab.research.google.com/github/meiruv/IMDB_sentiment_analysis/blob/main/Sentiment_Analysis_with_Pytorch.ipynb\" target=\"_parent\"><img src=\"https://colab.research.google.com/assets/colab-badge.svg\" alt=\"Open In Colab\"/></a>"
      ]
    },
    {
      "cell_type": "code",
      "metadata": {
        "colab": {
          "base_uri": "https://localhost:8080/"
        },
        "id": "rsJaataIaoLA",
        "outputId": "9805ecbb-6a83-4dd3-cb7e-d7882dfe9ee5"
      },
      "source": [
        "!pip install torch==1.6.0 torchvision==0.7.0"
      ],
      "execution_count": null,
      "outputs": [
        {
          "output_type": "stream",
          "name": "stdout",
          "text": [
            "Requirement already satisfied: torch==1.6.0 in /usr/local/lib/python3.7/dist-packages (1.6.0)\n",
            "Requirement already satisfied: torchvision==0.7.0 in /usr/local/lib/python3.7/dist-packages (0.7.0)\n",
            "Requirement already satisfied: future in /usr/local/lib/python3.7/dist-packages (from torch==1.6.0) (0.16.0)\n",
            "Requirement already satisfied: numpy in /usr/local/lib/python3.7/dist-packages (from torch==1.6.0) (1.19.5)\n",
            "Requirement already satisfied: pillow>=4.1.1 in /usr/local/lib/python3.7/dist-packages (from torchvision==0.7.0) (7.1.2)\n"
          ]
        }
      ]
    },
    {
      "cell_type": "code",
      "metadata": {
        "colab": {
          "base_uri": "https://localhost:8080/"
        },
        "id": "f8FTyoNjxIwh",
        "outputId": "d383b9ee-2130-4d60-f4b6-8b61c8f0fc16"
      },
      "source": [
        "import nltk\n",
        "nltk.download('stopwords')"
      ],
      "execution_count": null,
      "outputs": [
        {
          "output_type": "stream",
          "name": "stdout",
          "text": [
            "[nltk_data] Downloading package stopwords to /root/nltk_data...\n",
            "[nltk_data]   Package stopwords is already up-to-date!\n"
          ]
        },
        {
          "output_type": "execute_result",
          "data": {
            "text/plain": [
              "True"
            ]
          },
          "metadata": {},
          "execution_count": 2
        }
      ]
    },
    {
      "cell_type": "code",
      "metadata": {
        "id": "ZuG9tnFjzUdz"
      },
      "source": [
        "import spacy"
      ],
      "execution_count": null,
      "outputs": []
    },
    {
      "cell_type": "code",
      "metadata": {
        "id": "jajy0brwzi1I"
      },
      "source": [
        "from nltk.corpus import stopwords\n",
        "stop_words = stopwords.words('english')"
      ],
      "execution_count": null,
      "outputs": []
    },
    {
      "cell_type": "code",
      "metadata": {
        "id": "AD73oOFDzwNA"
      },
      "source": [
        "stop_words"
      ],
      "execution_count": null,
      "outputs": []
    },
    {
      "cell_type": "code",
      "metadata": {
        "id": "hVwnE4PszxNm"
      },
      "source": [
        "# we disable those functions because otherwise they will be performed automatically\n",
        "# everytime we run nlp on a text which massively slows down runtime.\n",
        "nlp = spacy.load(\"en\",disable=['parser', 'tagger', 'ner'])"
      ],
      "execution_count": null,
      "outputs": []
    },
    {
      "cell_type": "markdown",
      "metadata": {
        "id": "VN9pNoV24jiL"
      },
      "source": [
        "# Preprocessing"
      ]
    },
    {
      "cell_type": "code",
      "metadata": {
        "id": "CPqG5vf0z3PW"
      },
      "source": [
        "from nltk.tokenize import sent_tokenize"
      ],
      "execution_count": null,
      "outputs": []
    },
    {
      "cell_type": "code",
      "metadata": {
        "colab": {
          "base_uri": "https://localhost:8080/"
        },
        "id": "hN3lMrGR0sQS",
        "outputId": "5e4906de-ee6c-46a9-e9d0-d9d7b27a35b9"
      },
      "source": [
        "reviewsFile = open('reviews.txt','r')\n",
        "reviews = list(map(lambda x:x[:-1],reviewsFile.readlines()))\n",
        "reviewsFile.close()\n",
        "\n",
        "labelsFile = open('labels.txt','r')\n",
        "labels = list(map(lambda x:x[:-1],labelsFile.readlines()))\n",
        "labelsFile.close()\n",
        "\n",
        "print('# of reviews: ', len(reviews))\n",
        "print('# of labels: ', len(labels))\n",
        "print(set(labels))"
      ],
      "execution_count": null,
      "outputs": [
        {
          "output_type": "stream",
          "name": "stdout",
          "text": [
            "# of reviews:  25000\n",
            "# of labels:  25000\n",
            "{'positive', 'negative'}\n"
          ]
        }
      ]
    },
    {
      "cell_type": "code",
      "metadata": {
        "colab": {
          "base_uri": "https://localhost:8080/"
        },
        "id": "_6MZ5zQfT1tk",
        "outputId": "f95c2993-447a-40b5-869b-db8e45b1e206"
      },
      "source": [
        "labelsFile = open('labels.txt','r')\n",
        "labels = list(map(lambda x:x[:-1],labelsFile.readlines()))\n",
        "labelsFile.close()\n",
        "\n",
        "labels[:5]"
      ],
      "execution_count": null,
      "outputs": [
        {
          "output_type": "execute_result",
          "data": {
            "text/plain": [
              "['positive', 'negative', 'positive', 'negative', 'positive']"
            ]
          },
          "metadata": {},
          "execution_count": 9
        }
      ]
    },
    {
      "cell_type": "code",
      "metadata": {
        "colab": {
          "base_uri": "https://localhost:8080/",
          "height": 136
        },
        "id": "l05HPWBM1cMo",
        "outputId": "4069eaa5-c774-45fb-cdf8-6ab10e2599b1"
      },
      "source": [
        "print('# of reviews: ', len(reviews))\n",
        "print('# of labels: ', len(labels))\n",
        "print(set(labels))\n",
        "reviews[0]"
      ],
      "execution_count": null,
      "outputs": [
        {
          "output_type": "stream",
          "name": "stdout",
          "text": [
            "# of reviews:  25000\n",
            "# of labels:  25000\n",
            "{'positive', 'negative'}\n"
          ]
        },
        {
          "output_type": "execute_result",
          "data": {
            "application/vnd.google.colaboratory.intrinsic+json": {
              "type": "string"
            },
            "text/plain": [
              "'bromwell high is a cartoon comedy . it ran at the same time as some other programs about school life  such as  teachers  . my   years in the teaching profession lead me to believe that bromwell high  s satire is much closer to reality than is  teachers  . the scramble to survive financially  the insightful students who can see right through their pathetic teachers  pomp  the pettiness of the whole situation  all remind me of the schools i knew and their students . when i saw the episode in which a student repeatedly tried to burn down the school  i immediately recalled . . . . . . . . . at . . . . . . . . . . high . a classic line inspector i  m here to sack one of your teachers . student welcome to bromwell high . i expect that many adults of my age think that bromwell high is far fetched . what a pity that it isn  t   '"
            ]
          },
          "metadata": {},
          "execution_count": 10
        }
      ]
    },
    {
      "cell_type": "markdown",
      "metadata": {
        "id": "l9cQD6aL4mvb"
      },
      "source": [
        "## Tokenizing"
      ]
    },
    {
      "cell_type": "code",
      "metadata": {
        "colab": {
          "base_uri": "https://localhost:8080/"
        },
        "id": "myrphWUr151h",
        "outputId": "77e08389-f355-4b02-9a09-c91d8cd0d091"
      },
      "source": [
        "nltk.download('punkt')"
      ],
      "execution_count": null,
      "outputs": [
        {
          "output_type": "stream",
          "name": "stdout",
          "text": [
            "[nltk_data] Downloading package punkt to /root/nltk_data...\n",
            "[nltk_data]   Package punkt is already up-to-date!\n"
          ]
        },
        {
          "output_type": "execute_result",
          "data": {
            "text/plain": [
              "True"
            ]
          },
          "metadata": {},
          "execution_count": 11
        }
      ]
    },
    {
      "cell_type": "markdown",
      "metadata": {
        "id": "xIcOQeme4gwr"
      },
      "source": [
        ""
      ]
    },
    {
      "cell_type": "code",
      "metadata": {
        "colab": {
          "base_uri": "https://localhost:8080/"
        },
        "id": "3_co35o-1qP_",
        "outputId": "6d3a4a3a-3485-4dd6-93b7-28f6d298f515"
      },
      "source": [
        "nltk.word_tokenize(reviews[0])"
      ],
      "execution_count": null,
      "outputs": [
        {
          "output_type": "execute_result",
          "data": {
            "text/plain": [
              "['bromwell',\n",
              " 'high',\n",
              " 'is',\n",
              " 'a',\n",
              " 'cartoon',\n",
              " 'comedy',\n",
              " '.',\n",
              " 'it',\n",
              " 'ran',\n",
              " 'at',\n",
              " 'the',\n",
              " 'same',\n",
              " 'time',\n",
              " 'as',\n",
              " 'some',\n",
              " 'other',\n",
              " 'programs',\n",
              " 'about',\n",
              " 'school',\n",
              " 'life',\n",
              " 'such',\n",
              " 'as',\n",
              " 'teachers',\n",
              " '.',\n",
              " 'my',\n",
              " 'years',\n",
              " 'in',\n",
              " 'the',\n",
              " 'teaching',\n",
              " 'profession',\n",
              " 'lead',\n",
              " 'me',\n",
              " 'to',\n",
              " 'believe',\n",
              " 'that',\n",
              " 'bromwell',\n",
              " 'high',\n",
              " 's',\n",
              " 'satire',\n",
              " 'is',\n",
              " 'much',\n",
              " 'closer',\n",
              " 'to',\n",
              " 'reality',\n",
              " 'than',\n",
              " 'is',\n",
              " 'teachers',\n",
              " '.',\n",
              " 'the',\n",
              " 'scramble',\n",
              " 'to',\n",
              " 'survive',\n",
              " 'financially',\n",
              " 'the',\n",
              " 'insightful',\n",
              " 'students',\n",
              " 'who',\n",
              " 'can',\n",
              " 'see',\n",
              " 'right',\n",
              " 'through',\n",
              " 'their',\n",
              " 'pathetic',\n",
              " 'teachers',\n",
              " 'pomp',\n",
              " 'the',\n",
              " 'pettiness',\n",
              " 'of',\n",
              " 'the',\n",
              " 'whole',\n",
              " 'situation',\n",
              " 'all',\n",
              " 'remind',\n",
              " 'me',\n",
              " 'of',\n",
              " 'the',\n",
              " 'schools',\n",
              " 'i',\n",
              " 'knew',\n",
              " 'and',\n",
              " 'their',\n",
              " 'students',\n",
              " '.',\n",
              " 'when',\n",
              " 'i',\n",
              " 'saw',\n",
              " 'the',\n",
              " 'episode',\n",
              " 'in',\n",
              " 'which',\n",
              " 'a',\n",
              " 'student',\n",
              " 'repeatedly',\n",
              " 'tried',\n",
              " 'to',\n",
              " 'burn',\n",
              " 'down',\n",
              " 'the',\n",
              " 'school',\n",
              " 'i',\n",
              " 'immediately',\n",
              " 'recalled',\n",
              " '.',\n",
              " '.',\n",
              " '.',\n",
              " '.',\n",
              " '.',\n",
              " '.',\n",
              " '.',\n",
              " '.',\n",
              " '.',\n",
              " 'at',\n",
              " '.',\n",
              " '.',\n",
              " '.',\n",
              " '.',\n",
              " '.',\n",
              " '.',\n",
              " '.',\n",
              " '.',\n",
              " '.',\n",
              " '.',\n",
              " 'high',\n",
              " '.',\n",
              " 'a',\n",
              " 'classic',\n",
              " 'line',\n",
              " 'inspector',\n",
              " 'i',\n",
              " 'm',\n",
              " 'here',\n",
              " 'to',\n",
              " 'sack',\n",
              " 'one',\n",
              " 'of',\n",
              " 'your',\n",
              " 'teachers',\n",
              " '.',\n",
              " 'student',\n",
              " 'welcome',\n",
              " 'to',\n",
              " 'bromwell',\n",
              " 'high',\n",
              " '.',\n",
              " 'i',\n",
              " 'expect',\n",
              " 'that',\n",
              " 'many',\n",
              " 'adults',\n",
              " 'of',\n",
              " 'my',\n",
              " 'age',\n",
              " 'think',\n",
              " 'that',\n",
              " 'bromwell',\n",
              " 'high',\n",
              " 'is',\n",
              " 'far',\n",
              " 'fetched',\n",
              " '.',\n",
              " 'what',\n",
              " 'a',\n",
              " 'pity',\n",
              " 'that',\n",
              " 'it',\n",
              " 'isn',\n",
              " 't']"
            ]
          },
          "metadata": {},
          "execution_count": 12
        }
      ]
    },
    {
      "cell_type": "code",
      "metadata": {
        "id": "HhYllJsJ10ZG"
      },
      "source": [
        "from nltk.tokenize import RegexpTokenizer\n",
        "tokenizer = RegexpTokenizer(\"\\w+\\'?\\w+|\\w+\")"
      ],
      "execution_count": null,
      "outputs": []
    },
    {
      "cell_type": "code",
      "metadata": {
        "colab": {
          "base_uri": "https://localhost:8080/"
        },
        "id": "7Jlig-Of2BJm",
        "outputId": "b36be8c6-cda5-424e-e996-13a7bb79c63a"
      },
      "source": [
        "tokenizer.tokenize(\"I didn't like the movie.\")"
      ],
      "execution_count": null,
      "outputs": [
        {
          "output_type": "execute_result",
          "data": {
            "text/plain": [
              "['I', \"didn't\", 'like', 'the', 'movie']"
            ]
          },
          "metadata": {},
          "execution_count": 14
        }
      ]
    },
    {
      "cell_type": "code",
      "metadata": {
        "colab": {
          "base_uri": "https://localhost:8080/"
        },
        "id": "ZdLv04HQ3AOm",
        "outputId": "48dc23df-589a-44ee-ec77-70530809a43c"
      },
      "source": [
        "tokenizer.tokenize(reviews[0])\n",
        "# ~~~~~~~~~~~~~~~~~ but this did split the 'isn't' in the end of the review so I think this regex is wrong... ~~~~~~~~~~~~~~~~~"
      ],
      "execution_count": null,
      "outputs": [
        {
          "output_type": "execute_result",
          "data": {
            "text/plain": [
              "['bromwell',\n",
              " 'high',\n",
              " 'is',\n",
              " 'a',\n",
              " 'cartoon',\n",
              " 'comedy',\n",
              " 'it',\n",
              " 'ran',\n",
              " 'at',\n",
              " 'the',\n",
              " 'same',\n",
              " 'time',\n",
              " 'as',\n",
              " 'some',\n",
              " 'other',\n",
              " 'programs',\n",
              " 'about',\n",
              " 'school',\n",
              " 'life',\n",
              " 'such',\n",
              " 'as',\n",
              " 'teachers',\n",
              " 'my',\n",
              " 'years',\n",
              " 'in',\n",
              " 'the',\n",
              " 'teaching',\n",
              " 'profession',\n",
              " 'lead',\n",
              " 'me',\n",
              " 'to',\n",
              " 'believe',\n",
              " 'that',\n",
              " 'bromwell',\n",
              " 'high',\n",
              " 's',\n",
              " 'satire',\n",
              " 'is',\n",
              " 'much',\n",
              " 'closer',\n",
              " 'to',\n",
              " 'reality',\n",
              " 'than',\n",
              " 'is',\n",
              " 'teachers',\n",
              " 'the',\n",
              " 'scramble',\n",
              " 'to',\n",
              " 'survive',\n",
              " 'financially',\n",
              " 'the',\n",
              " 'insightful',\n",
              " 'students',\n",
              " 'who',\n",
              " 'can',\n",
              " 'see',\n",
              " 'right',\n",
              " 'through',\n",
              " 'their',\n",
              " 'pathetic',\n",
              " 'teachers',\n",
              " 'pomp',\n",
              " 'the',\n",
              " 'pettiness',\n",
              " 'of',\n",
              " 'the',\n",
              " 'whole',\n",
              " 'situation',\n",
              " 'all',\n",
              " 'remind',\n",
              " 'me',\n",
              " 'of',\n",
              " 'the',\n",
              " 'schools',\n",
              " 'i',\n",
              " 'knew',\n",
              " 'and',\n",
              " 'their',\n",
              " 'students',\n",
              " 'when',\n",
              " 'i',\n",
              " 'saw',\n",
              " 'the',\n",
              " 'episode',\n",
              " 'in',\n",
              " 'which',\n",
              " 'a',\n",
              " 'student',\n",
              " 'repeatedly',\n",
              " 'tried',\n",
              " 'to',\n",
              " 'burn',\n",
              " 'down',\n",
              " 'the',\n",
              " 'school',\n",
              " 'i',\n",
              " 'immediately',\n",
              " 'recalled',\n",
              " 'at',\n",
              " 'high',\n",
              " 'a',\n",
              " 'classic',\n",
              " 'line',\n",
              " 'inspector',\n",
              " 'i',\n",
              " 'm',\n",
              " 'here',\n",
              " 'to',\n",
              " 'sack',\n",
              " 'one',\n",
              " 'of',\n",
              " 'your',\n",
              " 'teachers',\n",
              " 'student',\n",
              " 'welcome',\n",
              " 'to',\n",
              " 'bromwell',\n",
              " 'high',\n",
              " 'i',\n",
              " 'expect',\n",
              " 'that',\n",
              " 'many',\n",
              " 'adults',\n",
              " 'of',\n",
              " 'my',\n",
              " 'age',\n",
              " 'think',\n",
              " 'that',\n",
              " 'bromwell',\n",
              " 'high',\n",
              " 'is',\n",
              " 'far',\n",
              " 'fetched',\n",
              " 'what',\n",
              " 'a',\n",
              " 'pity',\n",
              " 'that',\n",
              " 'it',\n",
              " 'isn',\n",
              " 't']"
            ]
          },
          "metadata": {},
          "execution_count": 15
        }
      ]
    },
    {
      "cell_type": "code",
      "metadata": {
        "id": "On6jsHVA3EGm"
      },
      "source": [
        "reviews = list(map(lambda x:tokenizer.tokenize(x.lower()),reviews))\n",
        "# ~~~~~~~~~~~~~~~~  why did I need to use a map function here? ~~~~~~~~~~~~~~~~~~~~~~~~~~~"
      ],
      "execution_count": null,
      "outputs": []
    },
    {
      "cell_type": "markdown",
      "metadata": {
        "id": "4q_jom4Y4tTA"
      },
      "source": [
        "## Stop Words\n",
        "\n",
        "I will use both spacy and nltk's cololection of stop words since they have different ones.\n",
        "It is important to note that NLTK's collection is list and spaCy's is a set. \n",
        "I'll convert NLTK stop words collection into a set and perform a union between these sets so that we have a set of unique stop words. The reason I prefer sets over lists is that sets are significantly faster than a list to check whether a given word is in it compared to a list. However lists are faster than sets where there is an iteration to be performed on the contents."
      ]
    },
    {
      "cell_type": "code",
      "metadata": {
        "id": "Dbk2Kp2T3cNF"
      },
      "source": [
        "\n",
        "from nltk.corpus import stopwords\n",
        "stop_words = stopwords.words('english')\n",
        "\n",
        "from spacy.lang.en.stop_words import STOP_WORDS\n"
      ],
      "execution_count": null,
      "outputs": []
    },
    {
      "cell_type": "code",
      "metadata": {
        "id": "g4FvwMA25oZ_"
      },
      "source": [
        "exceptionStopWords = {\n",
        "    'again',\n",
        "    'against',\n",
        "    'ain',\n",
        "    'almost',\n",
        "    'among',\n",
        "    'amongst',\n",
        "    'amount',\n",
        "    'anyhow',\n",
        "    'anyway',\n",
        "    'aren',\n",
        "    \"aren't\",\n",
        "    'below',\n",
        "    'bottom',\n",
        "    'but',\n",
        "    'cannot',\n",
        "    'couldn',\n",
        "    \"couldn't\",\n",
        "    'didn',\n",
        "    \"didn't\",\n",
        "    'doesn',\n",
        "    \"doesn't\",\n",
        "    'don',\n",
        "    \"don't\",\n",
        "    'done',\n",
        "    'down',\n",
        "    'except',\n",
        "    'few',\n",
        "    'hadn',\n",
        "    \"hadn't\",\n",
        "    'hasn',\n",
        "    \"hasn't\",\n",
        "    'haven',\n",
        "    \"haven't\",\n",
        "    'however',\n",
        "    'isn',\n",
        "    \"isn't\",\n",
        "    'least',\n",
        "    'mightn',\n",
        "    \"mightn't\",\n",
        "    'move',\n",
        "    'much',\n",
        "    'must',\n",
        "    'mustn',\n",
        "    \"mustn't\",\n",
        "    'needn',\n",
        "    \"needn't\",\n",
        "    'neither',\n",
        "    'never',\n",
        "    'nevertheless',\n",
        "    'no',\n",
        "    'nobody',\n",
        "    'none',\n",
        "    'noone',\n",
        "    'nor',\n",
        "    'not',\n",
        "    'nothing',\n",
        "    'should',\n",
        "    \"should've\",\n",
        "    'shouldn',\n",
        "    \"shouldn't\",\n",
        "    'too',\n",
        "    'top',\n",
        "    'up',\n",
        "    'wasn',\n",
        "    \"wasn't\",\n",
        "    'well',\n",
        "    'weren',\n",
        "    \"weren't\",\n",
        "    'won',\n",
        "    \"won't\",\n",
        "    'wouldn',\n",
        "    \"wouldn't\",\n",
        "}"
      ],
      "execution_count": null,
      "outputs": []
    },
    {
      "cell_type": "code",
      "metadata": {
        "id": "B8j9WMBZ51jO"
      },
      "source": [
        "stop_words = set(stop_words).union(STOP_WORDS)"
      ],
      "execution_count": null,
      "outputs": []
    },
    {
      "cell_type": "code",
      "metadata": {
        "id": "6M0GlUbi54sm"
      },
      "source": [
        "final_stop_words = stop_words-exceptionStopWords\n"
      ],
      "execution_count": null,
      "outputs": []
    },
    {
      "cell_type": "code",
      "metadata": {
        "id": "b2uINSq856c2"
      },
      "source": [
        ""
      ],
      "execution_count": null,
      "outputs": []
    },
    {
      "cell_type": "markdown",
      "metadata": {
        "id": "LM3JaHAZ_05v"
      },
      "source": [
        "## Lemmatization\n",
        "\n",
        "Lemmatization is a process in linguistics for grouping together the inflected forms of a word, so that they can be analyzed as a single item identified by the words lemma or dictionary form. What this means that words like is our B would be reduced to B, or words like walk walking walked would be reduced to walk, that is the words would be reduced to their base form. It-\n",
        "- Reduces the feature space\n",
        "- Allows more precise scores for methods like BOW, tf-idf etc."
      ]
    },
    {
      "cell_type": "code",
      "metadata": {
        "id": "piu5Re4kBXTu"
      },
      "source": [
        ""
      ],
      "execution_count": null,
      "outputs": []
    },
    {
      "cell_type": "markdown",
      "metadata": {
        "id": "YMIyuAoXDU2J"
      },
      "source": [
        "# Entire Preprocessing With Functions and Pipeline"
      ]
    },
    {
      "cell_type": "code",
      "metadata": {
        "id": "9CcGNN_nDZgB"
      },
      "source": [
        "def load_data():\n",
        "    reviewsFile = open('reviews.txt','r')\n",
        "    reviews = list(map(lambda x:x[:-1],reviewsFile.readlines()))\n",
        "    reviewsFile.close()\n",
        "\n",
        "    labelsFile = open('labels.txt','r')\n",
        "    labels = list(map(lambda x:x[:-1],labelsFile.readlines()))\n",
        "    labelsFile.close()\n",
        "    \n",
        "    return reviews,labels"
      ],
      "execution_count": null,
      "outputs": []
    },
    {
      "cell_type": "code",
      "metadata": {
        "id": "ha1BHcemDcdG"
      },
      "source": [
        "reviews,labels = load_data()\n"
      ],
      "execution_count": null,
      "outputs": []
    },
    {
      "cell_type": "code",
      "metadata": {
        "id": "rezRCu5uDeMl"
      },
      "source": [
        "from nltk.tokenize import RegexpTokenizer\n",
        "tokenizer = RegexpTokenizer(\"\\w+\\'?\\w+|\\w+\")"
      ],
      "execution_count": null,
      "outputs": []
    },
    {
      "cell_type": "code",
      "metadata": {
        "id": "qIVc3YCeDhw9"
      },
      "source": [
        "from nltk.corpus import stopwords\n",
        "stop_words = stopwords.words('english')"
      ],
      "execution_count": null,
      "outputs": []
    },
    {
      "cell_type": "code",
      "metadata": {
        "id": "qbA2p7a0Dhzk"
      },
      "source": [
        "from spacy.lang.en.stop_words import STOP_WORDS"
      ],
      "execution_count": null,
      "outputs": []
    },
    {
      "cell_type": "code",
      "metadata": {
        "id": "85nsB525Dh2a"
      },
      "source": [
        "exceptionStopWords = {\n",
        "    'again',\n",
        "    'against',\n",
        "    'ain',\n",
        "    'almost',\n",
        "    'among',\n",
        "    'amongst',\n",
        "    'amount',\n",
        "    'anyhow',\n",
        "    'anyway',\n",
        "    'aren',\n",
        "    \"aren't\",\n",
        "    'below',\n",
        "    'bottom',\n",
        "    'but',\n",
        "    'cannot',\n",
        "    'couldn',\n",
        "    \"couldn't\",\n",
        "    'didn',\n",
        "    \"didn't\",\n",
        "    'doesn',\n",
        "    \"doesn't\",\n",
        "    'don',\n",
        "    \"don't\",\n",
        "    'done',\n",
        "    'down',\n",
        "    'except',\n",
        "    'few',\n",
        "    'hadn',\n",
        "    \"hadn't\",\n",
        "    'hasn',\n",
        "    \"hasn't\",\n",
        "    'haven',\n",
        "    \"haven't\",\n",
        "    'however',\n",
        "    'isn',\n",
        "    \"isn't\",\n",
        "    'least',\n",
        "    'mightn',\n",
        "    \"mightn't\",\n",
        "    'move',\n",
        "    'much',\n",
        "    'must',\n",
        "    'mustn',\n",
        "    \"mustn't\",\n",
        "    'needn',\n",
        "    \"needn't\",\n",
        "    'neither',\n",
        "    'never',\n",
        "    'nevertheless',\n",
        "    'no',\n",
        "    'nobody',\n",
        "    'none',\n",
        "    'noone',\n",
        "    'nor',\n",
        "    'not',\n",
        "    'nothing',\n",
        "    'should',\n",
        "    \"should've\",\n",
        "    'shouldn',\n",
        "    \"shouldn't\",\n",
        "    'too',\n",
        "    'top',\n",
        "    'up',\n",
        "    'wasn',\n",
        "    \"wasn't\",\n",
        "    'well',\n",
        "    'weren',\n",
        "    \"weren't\",\n",
        "    'won',\n",
        "    \"won't\",\n",
        "    'wouldn',\n",
        "    \"wouldn't\",\n",
        "}"
      ],
      "execution_count": null,
      "outputs": []
    },
    {
      "cell_type": "code",
      "metadata": {
        "id": "A99B9zHRDh4W"
      },
      "source": [
        "stop_words = set(stop_words).union(STOP_WORDS)\n",
        "\n",
        "final_stop_words = stop_words-exceptionStopWords\n",
        "\n",
        "\n",
        "\n",
        "\n",
        "\n",
        "\n"
      ],
      "execution_count": null,
      "outputs": []
    },
    {
      "cell_type": "code",
      "metadata": {
        "id": "nRw0LpCXDxZv"
      },
      "source": [
        "import spacy\n",
        "nlp = spacy.load(\"en\",disable=['parser', 'tagger', 'ner'])"
      ],
      "execution_count": null,
      "outputs": []
    },
    {
      "cell_type": "code",
      "metadata": {
        "id": "71kmaN_eDxcs"
      },
      "source": [
        "def make_token(review):\n",
        "    return tokenizer.tokenize(str(review))"
      ],
      "execution_count": null,
      "outputs": []
    },
    {
      "cell_type": "code",
      "metadata": {
        "id": "O8s_9XUiDxgK"
      },
      "source": [
        "def remove_stopwords(review):\n",
        "    return [token for token in review if token not in final_stop_words]"
      ],
      "execution_count": null,
      "outputs": []
    },
    {
      "cell_type": "code",
      "metadata": {
        "id": "cWMALYG7Dxm5"
      },
      "source": [
        "def lemmatization(review):\n",
        "    lemma_result = []\n",
        "    \n",
        "    for words in review:\n",
        "        doc = nlp(words)\n",
        "        for token in doc:\n",
        "            lemma_result.append(token.lemma_)\n",
        "    return lemma_result"
      ],
      "execution_count": null,
      "outputs": []
    },
    {
      "cell_type": "code",
      "metadata": {
        "id": "__MB4tX7Dh6t"
      },
      "source": [
        "def pipeline(review):\n",
        "    review = make_token(review)\n",
        "    review = remove_stopwords(review)\n",
        "    return lemmatization(review)"
      ],
      "execution_count": null,
      "outputs": []
    },
    {
      "cell_type": "code",
      "metadata": {
        "colab": {
          "base_uri": "https://localhost:8080/"
        },
        "id": "BcLT99fvD_y0",
        "outputId": "70286387-6ba2-44f6-a40c-15ec4da9bd5c"
      },
      "source": [
        "%%time\n",
        "reviews = list(map(lambda review: pipeline(review),reviews))"
      ],
      "execution_count": null,
      "outputs": [
        {
          "output_type": "stream",
          "name": "stdout",
          "text": [
            "CPU times: user 2min 6s, sys: 658 ms, total: 2min 6s\n",
            "Wall time: 2min 6s\n"
          ]
        }
      ]
    },
    {
      "cell_type": "code",
      "metadata": {
        "colab": {
          "base_uri": "https://localhost:8080/"
        },
        "id": "VLpKsriIECnt",
        "outputId": "be132271-966a-45ae-b478-f38e18efb26d"
      },
      "source": [
        "reviews[:2]"
      ],
      "execution_count": null,
      "outputs": [
        {
          "output_type": "execute_result",
          "data": {
            "text/plain": [
              "[['bromwell',\n",
              "  'high',\n",
              "  'cartoon',\n",
              "  'comedy',\n",
              "  'run',\n",
              "  'time',\n",
              "  'program',\n",
              "  'school',\n",
              "  'life',\n",
              "  'teacher',\n",
              "  'year',\n",
              "  'teach',\n",
              "  'profession',\n",
              "  'lead',\n",
              "  'believe',\n",
              "  'bromwell',\n",
              "  'high',\n",
              "  'satire',\n",
              "  'much',\n",
              "  'close',\n",
              "  'reality',\n",
              "  'teacher',\n",
              "  'scramble',\n",
              "  'survive',\n",
              "  'financially',\n",
              "  'insightful',\n",
              "  'student',\n",
              "  'right',\n",
              "  'pathetic',\n",
              "  'teacher',\n",
              "  'pomp',\n",
              "  'pettiness',\n",
              "  'situation',\n",
              "  'remind',\n",
              "  'school',\n",
              "  'know',\n",
              "  'student',\n",
              "  'see',\n",
              "  'episode',\n",
              "  'student',\n",
              "  'repeatedly',\n",
              "  'try',\n",
              "  'burn',\n",
              "  'down',\n",
              "  'school',\n",
              "  'immediately',\n",
              "  'recall',\n",
              "  'high',\n",
              "  'classic',\n",
              "  'line',\n",
              "  'inspector',\n",
              "  'sack',\n",
              "  'teacher',\n",
              "  'student',\n",
              "  'welcome',\n",
              "  'bromwell',\n",
              "  'high',\n",
              "  'expect',\n",
              "  'adult',\n",
              "  'age',\n",
              "  'think',\n",
              "  'bromwell',\n",
              "  'high',\n",
              "  'far',\n",
              "  'fetch',\n",
              "  'pity',\n",
              "  'isn'],\n",
              " ['story',\n",
              "  'man',\n",
              "  'unnatural',\n",
              "  'feeling',\n",
              "  'pig',\n",
              "  'start',\n",
              "  'open',\n",
              "  'scene',\n",
              "  'terrific',\n",
              "  'example',\n",
              "  'absurd',\n",
              "  'comedy',\n",
              "  'formal',\n",
              "  'orchestra',\n",
              "  'audience',\n",
              "  'turn',\n",
              "  'insane',\n",
              "  'violent',\n",
              "  'mob',\n",
              "  'crazy',\n",
              "  'chantings',\n",
              "  'singer',\n",
              "  'unfortunately',\n",
              "  'stay',\n",
              "  'absurd',\n",
              "  'time',\n",
              "  'no',\n",
              "  'general',\n",
              "  'narrative',\n",
              "  'eventually',\n",
              "  'make',\n",
              "  'too',\n",
              "  'putt',\n",
              "  'era',\n",
              "  'should',\n",
              "  'turn',\n",
              "  'cryptic',\n",
              "  'dialogue',\n",
              "  'shakespeare',\n",
              "  'easy',\n",
              "  'grader',\n",
              "  'technical',\n",
              "  'level',\n",
              "  'well',\n",
              "  'think',\n",
              "  'good',\n",
              "  'cinematography',\n",
              "  'future',\n",
              "  'great',\n",
              "  'vilmos',\n",
              "  'zsigmond',\n",
              "  'future',\n",
              "  'star',\n",
              "  'sally',\n",
              "  'kirkland',\n",
              "  'frederic',\n",
              "  'forrest',\n",
              "  'see',\n",
              "  'briefly']]"
            ]
          },
          "metadata": {},
          "execution_count": 34
        }
      ]
    },
    {
      "cell_type": "markdown",
      "metadata": {
        "id": "kmQTBBGbEDQq"
      },
      "source": [
        "# Word Embeddings with Gensim"
      ]
    },
    {
      "cell_type": "code",
      "metadata": {
        "colab": {
          "base_uri": "https://localhost:8080/"
        },
        "id": "TKmj_slrEGnt",
        "outputId": "d461537c-b97e-4a6b-93c8-d95c11a2857a"
      },
      "source": [
        "from gensim.models import Word2Vec\n",
        "\n",
        "embedding_dimension = 100\n",
        "\n",
        "model = Word2Vec(reviews,size=embedding_dimension, window=3, min_count=3, workers=4)\n",
        "\n",
        "print(model.sg)\n",
        "\n",
        "word_vectors = model.wv\n",
        "\n",
        "del model\n",
        "\n",
        "len(word_vectors.vocab)\n",
        "\n"
      ],
      "execution_count": null,
      "outputs": [
        {
          "output_type": "stream",
          "name": "stdout",
          "text": [
            "0\n"
          ]
        },
        {
          "output_type": "execute_result",
          "data": {
            "text/plain": [
              "28163"
            ]
          },
          "metadata": {},
          "execution_count": 35
        }
      ]
    },
    {
      "cell_type": "code",
      "metadata": {
        "colab": {
          "base_uri": "https://localhost:8080/"
        },
        "id": "yRkV_CYBIEdF",
        "outputId": "65c9c5fd-a17c-49b2-9886-5957d797567f"
      },
      "source": [
        "word_vectors.similar_by_word(word=\"good\", topn=5)"
      ],
      "execution_count": null,
      "outputs": [
        {
          "output_type": "execute_result",
          "data": {
            "text/plain": [
              "[('decent', 0.7125661373138428),\n",
              " ('alright', 0.6783406734466553),\n",
              " ('darn', 0.6632038354873657),\n",
              " ('okay', 0.6426970958709717),\n",
              " ('great', 0.6315128803253174)]"
            ]
          },
          "metadata": {},
          "execution_count": 36
        }
      ]
    },
    {
      "cell_type": "code",
      "metadata": {
        "colab": {
          "base_uri": "https://localhost:8080/"
        },
        "id": "UXjLAbRXIKGJ",
        "outputId": "ec8861bb-c849-4698-8d66-bf6eeafaa820"
      },
      "source": [
        "word_vectors.similar_by_word(word=\"bad\", topn=5)"
      ],
      "execution_count": null,
      "outputs": [
        {
          "output_type": "execute_result",
          "data": {
            "text/plain": [
              "[('horrible', 0.695655345916748),\n",
              " ('terrible', 0.6865178346633911),\n",
              " ('suck', 0.6831722259521484),\n",
              " ('lousy', 0.671484112739563),\n",
              " ('lame', 0.6639829874038696)]"
            ]
          },
          "metadata": {},
          "execution_count": 37
        }
      ]
    },
    {
      "cell_type": "code",
      "metadata": {
        "colab": {
          "base_uri": "https://localhost:8080/"
        },
        "id": "GdTlemQhIKUm",
        "outputId": "292969f9-ee6f-483c-df7b-87190c4dc6e1"
      },
      "source": [
        "word_vectors.most_similar(positive=\"bad\",topn=4)"
      ],
      "execution_count": null,
      "outputs": [
        {
          "output_type": "execute_result",
          "data": {
            "text/plain": [
              "[('horrible', 0.695655345916748),\n",
              " ('terrible', 0.6865178346633911),\n",
              " ('suck', 0.6831722259521484),\n",
              " ('lousy', 0.671484112739563)]"
            ]
          },
          "metadata": {},
          "execution_count": 38
        }
      ]
    },
    {
      "cell_type": "code",
      "metadata": {
        "colab": {
          "base_uri": "https://localhost:8080/"
        },
        "id": "_bby6oE3IKXw",
        "outputId": "dc3689bb-c8b0-4edc-dbed-480df2fa8c3a"
      },
      "source": [
        "word_vectors.similarity(\"good\",\"bad\")"
      ],
      "execution_count": null,
      "outputs": [
        {
          "output_type": "execute_result",
          "data": {
            "text/plain": [
              "0.5675432"
            ]
          },
          "metadata": {},
          "execution_count": 39
        }
      ]
    },
    {
      "cell_type": "code",
      "metadata": {
        "colab": {
          "base_uri": "https://localhost:8080/"
        },
        "id": "hxL9DsC-IKaV",
        "outputId": "bbf99dba-f07a-4a82-f427-4d10e9b0dee8"
      },
      "source": [
        "word_vectors.similarity(\"good\",\"be\")"
      ],
      "execution_count": null,
      "outputs": [
        {
          "output_type": "execute_result",
          "data": {
            "text/plain": [
              "0.27097836"
            ]
          },
          "metadata": {},
          "execution_count": 40
        }
      ]
    },
    {
      "cell_type": "code",
      "metadata": {
        "colab": {
          "base_uri": "https://localhost:8080/"
        },
        "id": "tLHdFdXZIKcW",
        "outputId": "a8521e4f-1a19-4753-c38a-999d5f306966"
      },
      "source": [
        "word_vectors.similar_by_word(word=\"school\", topn=5)"
      ],
      "execution_count": null,
      "outputs": [
        {
          "output_type": "execute_result",
          "data": {
            "text/plain": [
              "[('college', 0.759829580783844),\n",
              " ('class', 0.752888560295105),\n",
              " ('schooler', 0.7477148771286011),\n",
              " ('bromwell', 0.7114781141281128),\n",
              " ('student', 0.7080619931221008)]"
            ]
          },
          "metadata": {},
          "execution_count": 41
        }
      ]
    },
    {
      "cell_type": "code",
      "metadata": {
        "colab": {
          "base_uri": "https://localhost:8080/"
        },
        "id": "oCA-GRFIIKfK",
        "outputId": "cfd0f78b-d398-46db-a6e5-432a75ebeec9"
      },
      "source": [
        "word_vectors.similar_by_word(word=\"comedy\", topn=5)"
      ],
      "execution_count": null,
      "outputs": [
        {
          "output_type": "execute_result",
          "data": {
            "text/plain": [
              "[('slapstick', 0.6919984817504883),\n",
              " ('satire', 0.6785503625869751),\n",
              " ('farce', 0.6700247526168823),\n",
              " ('humor', 0.6629171371459961),\n",
              " ('parody', 0.6436172127723694)]"
            ]
          },
          "metadata": {},
          "execution_count": 42
        }
      ]
    },
    {
      "cell_type": "code",
      "metadata": {
        "colab": {
          "base_uri": "https://localhost:8080/"
        },
        "id": "ihMUSAkPIVr2",
        "outputId": "d2a75b21-3bf2-4db9-ceee-f61ca8452a94"
      },
      "source": [
        "word_vectors.similar_by_word(word=\"action\", topn=5)"
      ],
      "execution_count": null,
      "outputs": [
        {
          "output_type": "execute_result",
          "data": {
            "text/plain": [
              "[('suspense', 0.635307788848877),\n",
              " ('thrill', 0.5930182933807373),\n",
              " ('blacksploitation', 0.5928084850311279),\n",
              " ('excitement', 0.5843026041984558),\n",
              " ('unexpecting', 0.5628532767295837)]"
            ]
          },
          "metadata": {},
          "execution_count": 43
        }
      ]
    },
    {
      "cell_type": "code",
      "metadata": {
        "id": "XPZnrINPIV3q"
      },
      "source": [
        ""
      ],
      "execution_count": null,
      "outputs": []
    },
    {
      "cell_type": "markdown",
      "metadata": {
        "id": "BTp8KXpIPD-5"
      },
      "source": [
        "# Model Training"
      ]
    },
    {
      "cell_type": "code",
      "metadata": {
        "id": "EC0rRQBRIWBV"
      },
      "source": [
        "import torch\n",
        "import torch.nn as nn\n",
        "import torch.optim as optim\n",
        "SEED = 2222\n",
        "\n"
      ],
      "execution_count": null,
      "outputs": []
    },
    {
      "cell_type": "code",
      "metadata": {
        "id": "RlKEBPP-SuU7"
      },
      "source": [
        "torch.manual_seed(SEED)\n",
        "torch.cuda.manual_seed(SEED)\n",
        "torch.backends.cudnn.deterministic = True\n"
      ],
      "execution_count": null,
      "outputs": []
    },
    {
      "cell_type": "code",
      "metadata": {
        "id": "vvnfQO9SSug_"
      },
      "source": [
        "def word2idx(embedding_model,review):\n",
        "    index_review = []\n",
        "    for word in review:\n",
        "        try:\n",
        "            index_review.append(embedding_model.vocab[word].index)\n",
        "        except: \n",
        "             pass\n",
        "    return torch.tensor(index_review)\n"
      ],
      "execution_count": null,
      "outputs": []
    },
    {
      "cell_type": "code",
      "metadata": {
        "colab": {
          "base_uri": "https://localhost:8080/"
        },
        "id": "PBy59WdQSuuU",
        "outputId": "d12da45e-3fa9-4081-e9f4-3ef59bfe422b"
      },
      "source": [
        "\n",
        "padding_value = len(word_vectors.index2word)\n",
        "padding_value"
      ],
      "execution_count": null,
      "outputs": [
        {
          "output_type": "execute_result",
          "data": {
            "text/plain": [
              "28163"
            ]
          },
          "metadata": {},
          "execution_count": 47
        }
      ]
    },
    {
      "cell_type": "code",
      "metadata": {
        "id": "FRkh1EqPSu6T"
      },
      "source": [
        "index_review = list(map(lambda review: word2idx(word_vectors,review),reviews))"
      ],
      "execution_count": null,
      "outputs": []
    },
    {
      "cell_type": "code",
      "metadata": {
        "id": "oTBjyFAgSvE5"
      },
      "source": [
        "embedding_weights = torch.Tensor(word_vectors.vectors)"
      ],
      "execution_count": null,
      "outputs": []
    },
    {
      "cell_type": "code",
      "metadata": {
        "id": "e6xAuSj7SvQ1"
      },
      "source": [
        "\n",
        "class RNN(nn.Module):\n",
        "    def __init__(self, input_dim, embedding_dim, hidden_dim, output_dim, n_layers, bidirectional, dropout,embedding_weights):\n",
        "        super().__init__()\n",
        "        self.embedding = nn.Embedding.from_pretrained(embedding_weights)\n",
        "        self.rnn = nn.LSTM(embedding_dim, hidden_dim, num_layers=n_layers, bidirectional=bidirectional, dropout=dropout)\n",
        "        self.fc = nn.Linear(hidden_dim*2, output_dim)\n",
        "        self.dropout = nn.Dropout(dropout)\n",
        "        \n",
        "    def forward(self, x, text_lengths):\n",
        "        #x [sent length , batch size]\n",
        "        embedded = self.embedding(x) #[sentect len,batch size,embedding dim]\n",
        "        packed_embedded = nn.utils.rnn.pack_padded_sequence(embedded, text_lengths)\n",
        "        packed_output, (hidden, cell) = self.rnn(packed_embedded)#output[sent length,batch size,hiddendin*num of directions],[numberlayers*num of dir,batch size,hid dim]\n",
        "        #[f0,b0,f1,b1,.......fn,bn]\n",
        "        hidden = self.dropout(torch.cat((hidden[-2,:,:], hidden[-1,:,:]), dim=1))\n",
        "        return self.fc(hidden.squeeze(0))\n"
      ],
      "execution_count": null,
      "outputs": []
    },
    {
      "cell_type": "code",
      "metadata": {
        "id": "CNL3k3yPSvZi"
      },
      "source": [
        "INPUT_DIM = padding_value\n",
        "EMBEDDING_DIM = 100\n",
        "HIDDEN_DIM = 256\n",
        "OUTPUT_DIM = 1\n",
        "N_LAYERS = 2\n",
        "BIDIRECTIONAL = True\n",
        "DROPOUT = 0.5"
      ],
      "execution_count": null,
      "outputs": []
    },
    {
      "cell_type": "code",
      "metadata": {
        "colab": {
          "base_uri": "https://localhost:8080/"
        },
        "id": "BqDAXDLCTHgI",
        "outputId": "cadeeaba-8111-44e9-bb6e-6b3935279bff"
      },
      "source": [
        "model = RNN(INPUT_DIM, EMBEDDING_DIM, HIDDEN_DIM, OUTPUT_DIM, N_LAYERS, BIDIRECTIONAL, DROPOUT, embedding_weights)\n",
        "model"
      ],
      "execution_count": null,
      "outputs": [
        {
          "output_type": "execute_result",
          "data": {
            "text/plain": [
              "RNN(\n",
              "  (embedding): Embedding(28163, 100)\n",
              "  (rnn): LSTM(100, 256, num_layers=2, dropout=0.5, bidirectional=True)\n",
              "  (fc): Linear(in_features=512, out_features=1, bias=True)\n",
              "  (dropout): Dropout(p=0.5, inplace=False)\n",
              ")"
            ]
          },
          "metadata": {},
          "execution_count": 52
        }
      ]
    },
    {
      "cell_type": "code",
      "metadata": {
        "id": "LmSbOOr4TQTJ"
      },
      "source": [
        "optimizer = optim.Adam(model.parameters())\n",
        "\n",
        "criterion = nn.BCEWithLogitsLoss()"
      ],
      "execution_count": null,
      "outputs": []
    },
    {
      "cell_type": "code",
      "metadata": {
        "colab": {
          "base_uri": "https://localhost:8080/",
          "height": 35
        },
        "id": "SffllJNLTQWJ",
        "outputId": "7c67794a-1810-4c3e-d879-1b8510c364e4"
      },
      "source": [
        "device = torch.device('cuda' if torch.cuda.is_available() else 'cpu')\n",
        "\n",
        "device.type"
      ],
      "execution_count": null,
      "outputs": [
        {
          "output_type": "execute_result",
          "data": {
            "application/vnd.google.colaboratory.intrinsic+json": {
              "type": "string"
            },
            "text/plain": [
              "'cuda'"
            ]
          },
          "metadata": {},
          "execution_count": 54
        }
      ]
    },
    {
      "cell_type": "code",
      "metadata": {
        "colab": {
          "base_uri": "https://localhost:8080/"
        },
        "id": "haNgaZ_FTQY8",
        "outputId": "0e12afa0-1249-4dcc-bc4d-04406b3ef7fe"
      },
      "source": [
        "from sklearn.model_selection import train_test_split\n",
        "\n",
        "labels[:5]\n",
        "\n"
      ],
      "execution_count": null,
      "outputs": [
        {
          "output_type": "execute_result",
          "data": {
            "text/plain": [
              "['positive', 'negative', 'positive', 'negative', 'positive']"
            ]
          },
          "metadata": {},
          "execution_count": 55
        }
      ]
    },
    {
      "cell_type": "code",
      "metadata": {
        "colab": {
          "base_uri": "https://localhost:8080/"
        },
        "id": "h-Pd2tQ0TQbI",
        "outputId": "471c5170-589a-408b-e715-52f747e5157b"
      },
      "source": [
        "\n",
        "labels_num = [0 if label == 'negative' else 1 for label in labels]\n",
        "labels_num[:5]"
      ],
      "execution_count": null,
      "outputs": [
        {
          "output_type": "execute_result",
          "data": {
            "text/plain": [
              "[1, 0, 1, 0, 1]"
            ]
          },
          "metadata": {},
          "execution_count": 56
        }
      ]
    },
    {
      "cell_type": "code",
      "metadata": {
        "colab": {
          "base_uri": "https://localhost:8080/"
        },
        "id": "GlWnQB0oTQft",
        "outputId": "6713960e-c5ec-421a-d247-09b540726de4"
      },
      "source": [
        "X_train, X_test, y_train, y_test = train_test_split(index_review, labels_num, test_size=0.2)\n",
        "\n",
        "X_train, X_val, y_train, y_val = train_test_split(X_train, y_train, test_size=0.2)\n",
        "\n",
        "print(len(X_train),len(X_test),len(X_val))\n",
        "\n",
        "print(len(y_train),len(y_test),len(y_val))\n",
        "\n",
        "batch_size = 128 \n"
      ],
      "execution_count": null,
      "outputs": [
        {
          "output_type": "stream",
          "name": "stdout",
          "text": [
            "16000 5000 4000\n",
            "16000 5000 4000\n"
          ]
        }
      ]
    },
    {
      "cell_type": "code",
      "metadata": {
        "id": "Sv5aM6dQUL2g"
      },
      "source": [
        "import numpy as np"
      ],
      "execution_count": null,
      "outputs": []
    },
    {
      "cell_type": "code",
      "metadata": {
        "id": "0TT4S-mHUToX"
      },
      "source": [
        "def iterator_func(X,y):\n",
        "    size = len(X)\n",
        "    permutation = np.random.permutation(size)\n",
        "    iterator = []\n",
        "    for i in range(0,size, batch_size):\n",
        "        indices = permutation[i:i+batch_size]\n",
        "        batch = {}\n",
        "        batch[\"text\"] = [X[i] for i in indices]\n",
        "        batch[\"label\"] = [y[i] for i in indices]\n",
        "        \n",
        "        batch[\"text\"],batch[\"label\"] = zip(*sorted(zip(batch[\"text\"],batch[\"label\"]),key=lambda x: len(x[0]),reverse=True))\n",
        "        batch[\"length\"] = [len(review) for review in batch[\"text\"]]\n",
        "        batch[\"length\"] = torch.IntTensor(batch[\"length\"])\n",
        "        batch[\"text\"] = torch.nn.utils.rnn.pad_sequence(batch[\"text\"],batch_first=True).t()\n",
        "        batch[\"label\"] = torch.Tensor(batch[\"label\"])\n",
        "        \n",
        "        batch[\"label\"]  = batch[\"label\"].to(device)\n",
        "        batch[\"length\"] = batch[\"length\"].to(device) \n",
        "        batch[\"text\"]   = batch[\"text\"].to(device) \n",
        "        \n",
        "        iterator.append(batch)\n",
        "        \n",
        "    return iterator\n",
        "\n",
        "\n",
        "\n"
      ],
      "execution_count": null,
      "outputs": []
    },
    {
      "cell_type": "code",
      "metadata": {
        "colab": {
          "base_uri": "https://localhost:8080/"
        },
        "id": "S7AF7p9DUT28",
        "outputId": "898430b8-b0da-44e1-90f6-6f4059db7102"
      },
      "source": [
        "train_iterator = iterator_func(X_train,y_train)\n",
        "valid_iterator = iterator_func(X_val,y_val)\n",
        "test_iterator = iterator_func(X_test,y_test)\n",
        "\n",
        "print(len(train_iterator),len(test_iterator),len(valid_iterator))"
      ],
      "execution_count": null,
      "outputs": [
        {
          "output_type": "stream",
          "name": "stdout",
          "text": [
            "125 40 32\n"
          ]
        }
      ]
    },
    {
      "cell_type": "code",
      "metadata": {
        "id": "uyVR_ndGUUC_"
      },
      "source": [
        "\n",
        "\n",
        "model = model.to(device)\n",
        "criterion = criterion.to(device)\n",
        "\n"
      ],
      "execution_count": null,
      "outputs": []
    },
    {
      "cell_type": "code",
      "metadata": {
        "id": "qbt38KumUUMA"
      },
      "source": [
        "def binary_accuracy(preds, y):\n",
        "    rounded_preds = torch.round(torch.sigmoid(preds))\n",
        "    correct = (rounded_preds == y).float()\n",
        "    acc = correct.sum()/len(correct)\n",
        "    return acc\n",
        "\n",
        "def train(model, iterator, optimizer, criterion):\n",
        "    epoch_loss = 0\n",
        "    epoch_acc = 0\n",
        "    model.train()\n",
        "    for batch in iterator:\n",
        "        optimizer.zero_grad()\n",
        "        predictions = model(batch[\"text\"],batch[\"length\"]).squeeze(1)\n",
        "        loss = criterion(predictions, batch[\"label\"])\n",
        "        acc = binary_accuracy(predictions, batch[\"label\"])\n",
        "        loss.backward()\n",
        "        optimizer.step()\n",
        "        epoch_loss += loss.item()\n",
        "        epoch_acc += acc.item()\n",
        "        \n",
        "    return epoch_loss / len(iterator), epoch_acc / len(iterator)\n",
        "\n",
        "def evaluate(model, iterator, criterion):\n",
        "    epoch_loss = 0\n",
        "    epoch_acc = 0\n",
        "    model.eval()\n",
        "    with torch.no_grad():\n",
        "        for batch in iterator:\n",
        "            predictions = model(batch[\"text\"],batch[\"length\"]).squeeze(1)\n",
        "            loss = criterion(predictions, batch[\"label\"])\n",
        "            acc = binary_accuracy(predictions, batch[\"label\"])\n",
        "\n",
        "            epoch_loss += loss.item()\n",
        "            epoch_acc += acc.item()\n",
        "        \n",
        "    return epoch_loss / len(iterator), epoch_acc / len(iterator)"
      ],
      "execution_count": null,
      "outputs": []
    },
    {
      "cell_type": "code",
      "metadata": {
        "colab": {
          "base_uri": "https://localhost:8080/",
          "height": 346
        },
        "id": "xVbb9KHmZ7oV",
        "outputId": "f54e44da-b161-4102-95b5-e6722343e115"
      },
      "source": [
        "N_EPOCHS = 5\n",
        "\n",
        "for epoch in range(N_EPOCHS):\n",
        "    train_loss, train_acc = train(model, train_iterator, optimizer, criterion)\n",
        "    valid_loss, valid_acc = evaluate(model, valid_iterator, criterion)\n",
        "    \n",
        "    print(f'| Epoch: {epoch+1:02} | Train Loss: {train_loss:.3f} | Train Acc: {train_acc*100:.2f}% | Val. Loss: {valid_loss:.3f} | Val. Acc: {valid_acc*100:.2f}% |')"
      ],
      "execution_count": null,
      "outputs": [
        {
          "output_type": "error",
          "ename": "KeyboardInterrupt",
          "evalue": "ignored",
          "traceback": [
            "\u001b[0;31m---------------------------------------------------------------------------\u001b[0m",
            "\u001b[0;31mKeyboardInterrupt\u001b[0m                         Traceback (most recent call last)",
            "\u001b[0;32m<ipython-input-74-163fffd27d2a>\u001b[0m in \u001b[0;36m<module>\u001b[0;34m()\u001b[0m\n\u001b[1;32m      2\u001b[0m \u001b[0;34m\u001b[0m\u001b[0m\n\u001b[1;32m      3\u001b[0m \u001b[0;32mfor\u001b[0m \u001b[0mepoch\u001b[0m \u001b[0;32min\u001b[0m \u001b[0mrange\u001b[0m\u001b[0;34m(\u001b[0m\u001b[0mN_EPOCHS\u001b[0m\u001b[0;34m)\u001b[0m\u001b[0;34m:\u001b[0m\u001b[0;34m\u001b[0m\u001b[0;34m\u001b[0m\u001b[0m\n\u001b[0;32m----> 4\u001b[0;31m     \u001b[0mtrain_loss\u001b[0m\u001b[0;34m,\u001b[0m \u001b[0mtrain_acc\u001b[0m \u001b[0;34m=\u001b[0m \u001b[0mtrain\u001b[0m\u001b[0;34m(\u001b[0m\u001b[0mmodel\u001b[0m\u001b[0;34m,\u001b[0m \u001b[0mtrain_iterator\u001b[0m\u001b[0;34m,\u001b[0m \u001b[0moptimizer\u001b[0m\u001b[0;34m,\u001b[0m \u001b[0mcriterion\u001b[0m\u001b[0;34m)\u001b[0m\u001b[0;34m\u001b[0m\u001b[0;34m\u001b[0m\u001b[0m\n\u001b[0m\u001b[1;32m      5\u001b[0m     \u001b[0mvalid_loss\u001b[0m\u001b[0;34m,\u001b[0m \u001b[0mvalid_acc\u001b[0m \u001b[0;34m=\u001b[0m \u001b[0mevaluate\u001b[0m\u001b[0;34m(\u001b[0m\u001b[0mmodel\u001b[0m\u001b[0;34m,\u001b[0m \u001b[0mvalid_iterator\u001b[0m\u001b[0;34m,\u001b[0m \u001b[0mcriterion\u001b[0m\u001b[0;34m)\u001b[0m\u001b[0;34m\u001b[0m\u001b[0;34m\u001b[0m\u001b[0m\n\u001b[1;32m      6\u001b[0m \u001b[0;34m\u001b[0m\u001b[0m\n",
            "\u001b[0;32m<ipython-input-62-fc4740cc02b5>\u001b[0m in \u001b[0;36mtrain\u001b[0;34m(model, iterator, optimizer, criterion)\u001b[0m\n\u001b[1;32m     16\u001b[0m         \u001b[0mloss\u001b[0m\u001b[0;34m.\u001b[0m\u001b[0mbackward\u001b[0m\u001b[0;34m(\u001b[0m\u001b[0;34m)\u001b[0m\u001b[0;34m\u001b[0m\u001b[0;34m\u001b[0m\u001b[0m\n\u001b[1;32m     17\u001b[0m         \u001b[0moptimizer\u001b[0m\u001b[0;34m.\u001b[0m\u001b[0mstep\u001b[0m\u001b[0;34m(\u001b[0m\u001b[0;34m)\u001b[0m\u001b[0;34m\u001b[0m\u001b[0;34m\u001b[0m\u001b[0m\n\u001b[0;32m---> 18\u001b[0;31m         \u001b[0mepoch_loss\u001b[0m \u001b[0;34m+=\u001b[0m \u001b[0mloss\u001b[0m\u001b[0;34m.\u001b[0m\u001b[0mitem\u001b[0m\u001b[0;34m(\u001b[0m\u001b[0;34m)\u001b[0m\u001b[0;34m\u001b[0m\u001b[0;34m\u001b[0m\u001b[0m\n\u001b[0m\u001b[1;32m     19\u001b[0m         \u001b[0mepoch_acc\u001b[0m \u001b[0;34m+=\u001b[0m \u001b[0macc\u001b[0m\u001b[0;34m.\u001b[0m\u001b[0mitem\u001b[0m\u001b[0;34m(\u001b[0m\u001b[0;34m)\u001b[0m\u001b[0;34m\u001b[0m\u001b[0;34m\u001b[0m\u001b[0m\n\u001b[1;32m     20\u001b[0m \u001b[0;34m\u001b[0m\u001b[0m\n",
            "\u001b[0;31mKeyboardInterrupt\u001b[0m: "
          ]
        }
      ]
    },
    {
      "cell_type": "code",
      "metadata": {
        "colab": {
          "base_uri": "https://localhost:8080/"
        },
        "id": "DdeXSXZiZ7to",
        "outputId": "f981d85e-408d-4eeb-9056-70196cd2962b"
      },
      "source": [
        "test_loss, test_acc = evaluate(model, test_iterator, criterion)\n",
        "\n",
        "print(f'| Test Loss: {test_loss:.3f} | Test Acc: {test_acc*100:.2f}% |')"
      ],
      "execution_count": null,
      "outputs": [
        {
          "output_type": "stream",
          "name": "stdout",
          "text": [
            "| Test Loss: 0.372 | Test Acc: 83.44% |\n"
          ]
        }
      ]
    },
    {
      "cell_type": "code",
      "metadata": {
        "colab": {
          "base_uri": "https://localhost:8080/"
        },
        "id": "pKicUGdJUoet",
        "outputId": "1346ce77-a859-4ed4-ec25-c7abb6b4992f"
      },
      "source": [
        "def predict_sentiment(sentence):\n",
        "    tokenized = pipeline(sentence)\n",
        "    indexed = word2idx(word_vectors,tokenized)\n",
        "    tensor = torch.LongTensor(indexed).to(device)\n",
        "    tensor = tensor.unsqueeze(1)\n",
        "    prediction = torch.sigmoid(model(tensor,torch.LongTensor([len(indexed)]).to(device)))\n",
        "    return prediction.item()\n",
        "\n",
        "print(predict_sentiment(\"this is a awesome movie\"))\n",
        "\n",
        "print(predict_sentiment(\"this is not an action movie, is a  very good movie\"))\n",
        "\n",
        "print(predict_sentiment(\"this is comedy movie\"))\n",
        "\n",
        "print(predict_sentiment(\"this is an awful movie\"))\n",
        "\n",
        "print(predict_sentiment(\"this is a bad movie\"))"
      ],
      "execution_count": null,
      "outputs": [
        {
          "output_type": "stream",
          "name": "stdout",
          "text": [
            "0.7221322059631348\n",
            "0.5807857513427734\n",
            "0.7732258439064026\n",
            "0.03303910419344902\n",
            "0.05560372397303581\n"
          ]
        }
      ]
    },
    {
      "cell_type": "code",
      "metadata": {
        "id": "Tos1qqd2UopZ"
      },
      "source": [
        ""
      ],
      "execution_count": null,
      "outputs": []
    },
    {
      "cell_type": "markdown",
      "metadata": {
        "id": "8_sKa29sdsFh"
      },
      "source": [
        "# Now With LSTM"
      ]
    },
    {
      "cell_type": "code",
      "metadata": {
        "id": "NOccdmaGdctz"
      },
      "source": [
        "\n",
        "class RNN(nn.Module):\n",
        "    def __init__(self, input_dim, embedding_dim, hidden_dim, output_dim, n_layers, bidirectional, dropout,embedding_weights):\n",
        "        super().__init__()\n",
        "        self.embedding = nn.Embedding.from_pretrained(embedding_weights)\n",
        "        self.rnn = nn.LSTM(embedding_dim, hidden_dim, num_layers=n_layers, bidirectional=bidirectional, dropout=dropout)\n",
        "        self.fc = nn.Linear(hidden_dim*2, output_dim)\n",
        "        self.dropout = nn.Dropout(dropout)\n",
        "        \n",
        "    def forward(self, x, text_lengths):\n",
        "        #x [sent length , batch size]\n",
        "        embedded = self.embedding(x) #[sentect len,batch size,embedding dim]\n",
        "        packed_embedded = nn.utils.rnn.pack_padded_sequence(embedded, text_lengths)\n",
        "        packed_output, (hidden, cell) = self.rnn(packed_embedded)#output[sent length,batch size,hiddendin*num of directions],[numberlayers*num of dir,batch size,hid dim]\n",
        "        #[f0,b0,f1,b1,.......fn,bn]\n",
        "        hidden = self.dropout(torch.cat((hidden[-2,:,:], hidden[-1,:,:]), dim=1))\n",
        "        return self.fc(hidden.squeeze(0))"
      ],
      "execution_count": null,
      "outputs": []
    },
    {
      "cell_type": "code",
      "metadata": {
        "id": "9EepiQUudczj"
      },
      "source": [
        "NPUT_DIM = padding_value\n",
        "EMBEDDING_DIM = 100\n",
        "HIDDEN_DIM = 256\n",
        "OUTPUT_DIM = 1\n",
        "N_LAYERS = 2\n",
        "BIDIRECTIONAL = True\n",
        "DROPOUT = 0.5\n",
        "\n"
      ],
      "execution_count": null,
      "outputs": []
    },
    {
      "cell_type": "code",
      "metadata": {
        "id": "9vL4MseoerzN"
      },
      "source": [
        ""
      ],
      "execution_count": null,
      "outputs": []
    },
    {
      "cell_type": "code",
      "metadata": {
        "colab": {
          "base_uri": "https://localhost:8080/"
        },
        "id": "vQ5jF6X7dc2o",
        "outputId": "c54a81f9-9034-4802-a7e3-0d30740239fe"
      },
      "source": [
        "model_with_lstm = RNN(INPUT_DIM, EMBEDDING_DIM, HIDDEN_DIM, OUTPUT_DIM, N_LAYERS, BIDIRECTIONAL, DROPOUT, embedding_weights)\n",
        "\n",
        "model_with_lstm"
      ],
      "execution_count": null,
      "outputs": [
        {
          "output_type": "execute_result",
          "data": {
            "text/plain": [
              "RNN(\n",
              "  (embedding): Embedding(28163, 100)\n",
              "  (rnn): LSTM(100, 256, num_layers=2, dropout=0.5, bidirectional=True)\n",
              "  (fc): Linear(in_features=512, out_features=1, bias=True)\n",
              "  (dropout): Dropout(p=0.5, inplace=False)\n",
              ")"
            ]
          },
          "metadata": {},
          "execution_count": 69
        }
      ]
    },
    {
      "cell_type": "code",
      "metadata": {
        "id": "QH7eqDaZesl5"
      },
      "source": [
        "device = torch.device('cuda' if torch.cuda.is_available() else 'cpu')\n",
        "\n",
        "device.type\n",
        "\n",
        "model_with_lstm = model_with_lstm.to(device)\n",
        "criterion = criterion.to(device)"
      ],
      "execution_count": null,
      "outputs": []
    },
    {
      "cell_type": "code",
      "metadata": {
        "id": "j2q23rwjdc5Y"
      },
      "source": [
        "optimizer = optim.Adam(model_with_lstm.parameters())\n",
        "\n",
        "criterion = nn.BCEWithLogitsLoss()"
      ],
      "execution_count": null,
      "outputs": []
    },
    {
      "cell_type": "code",
      "metadata": {
        "colab": {
          "base_uri": "https://localhost:8080/"
        },
        "id": "TXsR5vI6dc7x",
        "outputId": "7e7495c0-0ba5-4983-ba6d-6beaf0d09c51"
      },
      "source": [
        "\n",
        "N_EPOCHS = 5\n",
        "\n",
        "for epoch in range(N_EPOCHS):\n",
        "    train_loss, train_acc = train(model_with_lstm, train_iterator, optimizer, criterion)\n",
        "    valid_loss, valid_acc = evaluate(model_with_lstm, valid_iterator, criterion)\n",
        "    \n",
        "    print(f'| Epoch: {epoch+1:02} | Train Loss: {train_loss:.3f} | Train Acc: {train_acc*100:.2f}% | Val. Loss: {valid_loss:.3f} | Val. Acc: {valid_acc*100:.2f}% |')\n",
        "\n",
        "\n",
        "test_loss, test_acc = evaluate(model_with_lstm, test_iterator, criterion)\n",
        "\n",
        "print(f'| Test Loss: {test_loss:.3f} | Test Acc: {test_acc*100:.2f}% |')"
      ],
      "execution_count": null,
      "outputs": [
        {
          "output_type": "stream",
          "name": "stdout",
          "text": [
            "| Epoch: 01 | Train Loss: 0.401 | Train Acc: 82.20% | Val. Loss: 0.400 | Val. Acc: 82.74% |\n",
            "| Epoch: 02 | Train Loss: 0.381 | Train Acc: 83.52% | Val. Loss: 0.363 | Val. Acc: 83.54% |\n",
            "| Epoch: 03 | Train Loss: 0.345 | Train Acc: 84.97% | Val. Loss: 0.319 | Val. Acc: 86.84% |\n",
            "| Epoch: 04 | Train Loss: 0.321 | Train Acc: 86.28% | Val. Loss: 0.297 | Val. Acc: 87.21% |\n",
            "| Epoch: 05 | Train Loss: 0.312 | Train Acc: 87.00% | Val. Loss: 0.301 | Val. Acc: 87.43% |\n",
            "| Test Loss: 0.316 | Test Acc: 86.89% |\n"
          ]
        }
      ]
    },
    {
      "cell_type": "code",
      "metadata": {
        "id": "ss9QI7wMdc_Q"
      },
      "source": [
        ""
      ],
      "execution_count": null,
      "outputs": []
    },
    {
      "cell_type": "code",
      "metadata": {
        "id": "APjy2Z-sUor3"
      },
      "source": [
        ""
      ],
      "execution_count": null,
      "outputs": []
    },
    {
      "cell_type": "markdown",
      "metadata": {
        "id": "BeSWunUHbgr6"
      },
      "source": [
        "# Playing with HuggingFace on this dataset"
      ]
    },
    {
      "cell_type": "code",
      "metadata": {
        "id": "bLzAZK7Abmmt",
        "outputId": "2ec392fe-80b9-4060-ccb8-cfd120571e4e",
        "colab": {
          "base_uri": "https://localhost:8080/"
        }
      },
      "source": [
        "!pip install datasets transformers[sentencepiece]"
      ],
      "execution_count": 1,
      "outputs": [
        {
          "output_type": "stream",
          "name": "stdout",
          "text": [
            "Collecting datasets\n",
            "  Downloading datasets-1.14.0-py3-none-any.whl (290 kB)\n",
            "\u001b[?25l\r\u001b[K     |█▏                              | 10 kB 23.9 MB/s eta 0:00:01\r\u001b[K     |██▎                             | 20 kB 23.0 MB/s eta 0:00:01\r\u001b[K     |███▍                            | 30 kB 21.5 MB/s eta 0:00:01\r\u001b[K     |████▌                           | 40 kB 17.1 MB/s eta 0:00:01\r\u001b[K     |█████▋                          | 51 kB 14.1 MB/s eta 0:00:01\r\u001b[K     |██████▊                         | 61 kB 12.6 MB/s eta 0:00:01\r\u001b[K     |████████                        | 71 kB 12.0 MB/s eta 0:00:01\r\u001b[K     |█████████                       | 81 kB 13.3 MB/s eta 0:00:01\r\u001b[K     |██████████▏                     | 92 kB 13.6 MB/s eta 0:00:01\r\u001b[K     |███████████▎                    | 102 kB 11.0 MB/s eta 0:00:01\r\u001b[K     |████████████▍                   | 112 kB 11.0 MB/s eta 0:00:01\r\u001b[K     |█████████████▌                  | 122 kB 11.0 MB/s eta 0:00:01\r\u001b[K     |██████████████▊                 | 133 kB 11.0 MB/s eta 0:00:01\r\u001b[K     |███████████████▉                | 143 kB 11.0 MB/s eta 0:00:01\r\u001b[K     |█████████████████               | 153 kB 11.0 MB/s eta 0:00:01\r\u001b[K     |██████████████████              | 163 kB 11.0 MB/s eta 0:00:01\r\u001b[K     |███████████████████▏            | 174 kB 11.0 MB/s eta 0:00:01\r\u001b[K     |████████████████████▎           | 184 kB 11.0 MB/s eta 0:00:01\r\u001b[K     |█████████████████████▍          | 194 kB 11.0 MB/s eta 0:00:01\r\u001b[K     |██████████████████████▋         | 204 kB 11.0 MB/s eta 0:00:01\r\u001b[K     |███████████████████████▊        | 215 kB 11.0 MB/s eta 0:00:01\r\u001b[K     |████████████████████████▉       | 225 kB 11.0 MB/s eta 0:00:01\r\u001b[K     |██████████████████████████      | 235 kB 11.0 MB/s eta 0:00:01\r\u001b[K     |███████████████████████████     | 245 kB 11.0 MB/s eta 0:00:01\r\u001b[K     |████████████████████████████▏   | 256 kB 11.0 MB/s eta 0:00:01\r\u001b[K     |█████████████████████████████▍  | 266 kB 11.0 MB/s eta 0:00:01\r\u001b[K     |██████████████████████████████▌ | 276 kB 11.0 MB/s eta 0:00:01\r\u001b[K     |███████████████████████████████▋| 286 kB 11.0 MB/s eta 0:00:01\r\u001b[K     |████████████████████████████████| 290 kB 11.0 MB/s \n",
            "\u001b[?25hCollecting transformers[sentencepiece]\n",
            "  Downloading transformers-4.12.2-py3-none-any.whl (3.1 MB)\n",
            "\u001b[K     |████████████████████████████████| 3.1 MB 47.5 MB/s \n",
            "\u001b[?25hRequirement already satisfied: packaging in /usr/local/lib/python3.7/dist-packages (from datasets) (21.0)\n",
            "Requirement already satisfied: numpy>=1.17 in /usr/local/lib/python3.7/dist-packages (from datasets) (1.19.5)\n",
            "Collecting fsspec[http]>=2021.05.0\n",
            "  Downloading fsspec-2021.10.1-py3-none-any.whl (125 kB)\n",
            "\u001b[K     |████████████████████████████████| 125 kB 56.1 MB/s \n",
            "\u001b[?25hRequirement already satisfied: importlib-metadata in /usr/local/lib/python3.7/dist-packages (from datasets) (4.8.1)\n",
            "Requirement already satisfied: pandas in /usr/local/lib/python3.7/dist-packages (from datasets) (1.1.5)\n",
            "Collecting xxhash\n",
            "  Downloading xxhash-2.0.2-cp37-cp37m-manylinux2010_x86_64.whl (243 kB)\n",
            "\u001b[K     |████████████████████████████████| 243 kB 47.2 MB/s \n",
            "\u001b[?25hRequirement already satisfied: tqdm>=4.62.1 in /usr/local/lib/python3.7/dist-packages (from datasets) (4.62.3)\n",
            "Requirement already satisfied: multiprocess in /usr/local/lib/python3.7/dist-packages (from datasets) (0.70.12.2)\n",
            "Collecting aiohttp\n",
            "  Downloading aiohttp-3.8.0-cp37-cp37m-manylinux_2_5_x86_64.manylinux1_x86_64.manylinux_2_12_x86_64.manylinux2010_x86_64.whl (1.1 MB)\n",
            "\u001b[K     |████████████████████████████████| 1.1 MB 48.6 MB/s \n",
            "\u001b[?25hRequirement already satisfied: pyarrow!=4.0.0,>=1.0.0 in /usr/local/lib/python3.7/dist-packages (from datasets) (3.0.0)\n",
            "Requirement already satisfied: requests>=2.19.0 in /usr/local/lib/python3.7/dist-packages (from datasets) (2.23.0)\n",
            "Requirement already satisfied: dill in /usr/local/lib/python3.7/dist-packages (from datasets) (0.3.4)\n",
            "Collecting huggingface-hub<0.1.0,>=0.0.19\n",
            "  Downloading huggingface_hub-0.0.19-py3-none-any.whl (56 kB)\n",
            "\u001b[K     |████████████████████████████████| 56 kB 4.5 MB/s \n",
            "\u001b[?25hRequirement already satisfied: pyyaml in /usr/local/lib/python3.7/dist-packages (from huggingface-hub<0.1.0,>=0.0.19->datasets) (3.13)\n",
            "Requirement already satisfied: filelock in /usr/local/lib/python3.7/dist-packages (from huggingface-hub<0.1.0,>=0.0.19->datasets) (3.3.0)\n",
            "Requirement already satisfied: typing-extensions in /usr/local/lib/python3.7/dist-packages (from huggingface-hub<0.1.0,>=0.0.19->datasets) (3.7.4.3)\n",
            "Requirement already satisfied: pyparsing>=2.0.2 in /usr/local/lib/python3.7/dist-packages (from packaging->datasets) (2.4.7)\n",
            "Requirement already satisfied: certifi>=2017.4.17 in /usr/local/lib/python3.7/dist-packages (from requests>=2.19.0->datasets) (2021.5.30)\n",
            "Requirement already satisfied: idna<3,>=2.5 in /usr/local/lib/python3.7/dist-packages (from requests>=2.19.0->datasets) (2.10)\n",
            "Requirement already satisfied: urllib3!=1.25.0,!=1.25.1,<1.26,>=1.21.1 in /usr/local/lib/python3.7/dist-packages (from requests>=2.19.0->datasets) (1.24.3)\n",
            "Requirement already satisfied: chardet<4,>=3.0.2 in /usr/local/lib/python3.7/dist-packages (from requests>=2.19.0->datasets) (3.0.4)\n",
            "Collecting asynctest==0.13.0\n",
            "  Downloading asynctest-0.13.0-py3-none-any.whl (26 kB)\n",
            "Collecting yarl<2.0,>=1.0\n",
            "  Downloading yarl-1.7.0-cp37-cp37m-manylinux_2_5_x86_64.manylinux1_x86_64.manylinux_2_12_x86_64.manylinux2010_x86_64.whl (271 kB)\n",
            "\u001b[K     |████████████████████████████████| 271 kB 45.3 MB/s \n",
            "\u001b[?25hRequirement already satisfied: charset-normalizer<3.0,>=2.0 in /usr/local/lib/python3.7/dist-packages (from aiohttp->datasets) (2.0.7)\n",
            "Collecting multidict<7.0,>=4.5\n",
            "  Downloading multidict-5.2.0-cp37-cp37m-manylinux_2_5_x86_64.manylinux1_x86_64.manylinux_2_12_x86_64.manylinux2010_x86_64.whl (160 kB)\n",
            "\u001b[K     |████████████████████████████████| 160 kB 51.6 MB/s \n",
            "\u001b[?25hCollecting async-timeout<5.0,>=4.0.0a3\n",
            "  Downloading async_timeout-4.0.0-py3-none-any.whl (6.1 kB)\n",
            "Collecting aiosignal>=1.1.2\n",
            "  Downloading aiosignal-1.2.0-py3-none-any.whl (8.2 kB)\n",
            "Collecting frozenlist>=1.1.1\n",
            "  Downloading frozenlist-1.2.0-cp37-cp37m-manylinux_2_5_x86_64.manylinux1_x86_64.manylinux_2_12_x86_64.manylinux2010_x86_64.whl (192 kB)\n",
            "\u001b[K     |████████████████████████████████| 192 kB 51.7 MB/s \n",
            "\u001b[?25hRequirement already satisfied: attrs>=17.3.0 in /usr/local/lib/python3.7/dist-packages (from aiohttp->datasets) (21.2.0)\n",
            "Requirement already satisfied: zipp>=0.5 in /usr/local/lib/python3.7/dist-packages (from importlib-metadata->datasets) (3.6.0)\n",
            "Requirement already satisfied: pytz>=2017.2 in /usr/local/lib/python3.7/dist-packages (from pandas->datasets) (2018.9)\n",
            "Requirement already satisfied: python-dateutil>=2.7.3 in /usr/local/lib/python3.7/dist-packages (from pandas->datasets) (2.8.2)\n",
            "Requirement already satisfied: six>=1.5 in /usr/local/lib/python3.7/dist-packages (from python-dateutil>=2.7.3->pandas->datasets) (1.15.0)\n",
            "Collecting sacremoses\n",
            "  Downloading sacremoses-0.0.46-py3-none-any.whl (895 kB)\n",
            "\u001b[K     |████████████████████████████████| 895 kB 44.9 MB/s \n",
            "\u001b[?25hCollecting pyyaml\n",
            "  Downloading PyYAML-6.0-cp37-cp37m-manylinux_2_5_x86_64.manylinux1_x86_64.manylinux_2_12_x86_64.manylinux2010_x86_64.whl (596 kB)\n",
            "\u001b[K     |████████████████████████████████| 596 kB 45.6 MB/s \n",
            "\u001b[?25hCollecting tokenizers<0.11,>=0.10.1\n",
            "  Downloading tokenizers-0.10.3-cp37-cp37m-manylinux_2_5_x86_64.manylinux1_x86_64.manylinux_2_12_x86_64.manylinux2010_x86_64.whl (3.3 MB)\n",
            "\u001b[K     |████████████████████████████████| 3.3 MB 35.7 MB/s \n",
            "\u001b[?25hRequirement already satisfied: regex!=2019.12.17 in /usr/local/lib/python3.7/dist-packages (from transformers[sentencepiece]) (2019.12.20)\n",
            "Collecting sentencepiece!=0.1.92,>=0.1.91\n",
            "  Downloading sentencepiece-0.1.96-cp37-cp37m-manylinux_2_17_x86_64.manylinux2014_x86_64.whl (1.2 MB)\n",
            "\u001b[K     |████████████████████████████████| 1.2 MB 36.5 MB/s \n",
            "\u001b[?25hRequirement already satisfied: protobuf in /usr/local/lib/python3.7/dist-packages (from transformers[sentencepiece]) (3.17.3)\n",
            "Requirement already satisfied: joblib in /usr/local/lib/python3.7/dist-packages (from sacremoses->transformers[sentencepiece]) (1.0.1)\n",
            "Requirement already satisfied: click in /usr/local/lib/python3.7/dist-packages (from sacremoses->transformers[sentencepiece]) (7.1.2)\n",
            "Installing collected packages: multidict, frozenlist, yarl, pyyaml, asynctest, async-timeout, aiosignal, tokenizers, sacremoses, huggingface-hub, fsspec, aiohttp, xxhash, transformers, sentencepiece, datasets\n",
            "  Attempting uninstall: pyyaml\n",
            "    Found existing installation: PyYAML 3.13\n",
            "    Uninstalling PyYAML-3.13:\n",
            "      Successfully uninstalled PyYAML-3.13\n",
            "Successfully installed aiohttp-3.8.0 aiosignal-1.2.0 async-timeout-4.0.0 asynctest-0.13.0 datasets-1.14.0 frozenlist-1.2.0 fsspec-2021.10.1 huggingface-hub-0.0.19 multidict-5.2.0 pyyaml-6.0 sacremoses-0.0.46 sentencepiece-0.1.96 tokenizers-0.10.3 transformers-4.12.2 xxhash-2.0.2 yarl-1.7.0\n"
          ]
        }
      ]
    },
    {
      "cell_type": "code",
      "metadata": {
        "id": "uy35fkjmbpJ3",
        "outputId": "eeb760b5-4136-4822-e6c4-76ebd2839352",
        "colab": {
          "base_uri": "https://localhost:8080/",
          "height": 178,
          "referenced_widgets": [
            "5ecd6f0edc2a4c7c8e426cfb2b7e5126",
            "80454ff5f0b544cc872d9dffdb0930f2",
            "eb23e6c3c81d4fbf9141ae0bf397e381",
            "fc210b63727e49e69173d49dba3bbab0",
            "3aca240dbfea4e5babdd831a387675b5",
            "5eaed47c3c5d41e7b023dbc99d556d11",
            "6ad5ec3f4d064f1cb2273ffd1f634cc1",
            "5c417c13bc7d4a14a006eedd1879f01f",
            "178dd044cef94f1fa95983fe637198a6",
            "7d050d7578644912ab14392ad8f7841f",
            "0ec35c5e6e8541559c28f0732be8b1da",
            "64b3af56db564f758316057b5b7875b5",
            "4c181c198cba446391e4df5268c27edc",
            "cc5f093e94444e9492253e4bd2e85114",
            "7f0229555b194827ad268b24ae8f30d1",
            "ba8bcba80b0c4f21aba360686374f742",
            "69d38538b0864730b0d8051d56f19d2d",
            "69320ae88d414fbe9808d32a3ec3555c",
            "9b8a3ec3252642d4a4cede2974ed167b",
            "aa0d1618ef3f45c2a6ab97365a860de1",
            "1241a9f127e74a5b9c0eaea68e8af94e",
            "2b68c2a7bb2941a4af24036a331feb80",
            "70a6d93920c346e5873d54e4bca25a70",
            "b9c1ccca888445c681c84a7ad1cd9400",
            "fa35532f7c914788ab9610cebfa76435",
            "78483fcd80c34df5b961980113f9aa1c",
            "5861690b62ab46f5be801cafb5da3162",
            "60188a96303d4df495c1f9db74003a95",
            "c79391b3389248ab881dafa433f4b051",
            "1c0e87cc908a4c51b4e161e50a9b0846",
            "c815aaaad0f1444b8ce48916dc701cc8",
            "3d6066c68b624f85803f11503ba07ce2",
            "c618ffb84a904213b0d9d51552c2f3b1",
            "c62eb66e1cd9475897779b482285c7a7",
            "eb28ba32b4da4b2d9de54f3772f0c444",
            "f7b7dbb4485d403bbe262296f705d5d3",
            "9d77c672ab614b25b4e592f86927c926",
            "1ea0c94a92ee4e5c9adf59b82a395a86",
            "efc38f42464c49d19deaa48b6d9a1b8a",
            "96d632df46b44590a4dd55e64fed6596",
            "688062e14e9b44c4ba1a36a275498480",
            "a6d2ed2d0c5340fb86fd3e5ea5f32de4",
            "ba2373820cf649ed9e9dcf3035e741ba",
            "f9b74c55bfff4bdb8e67efe68c0590c2"
          ]
        }
      },
      "source": [
        "from transformers import pipeline\n",
        "\n",
        "classifier = pipeline(\"sentiment-analysis\")\n",
        "classifier(\"I've been waiting for a HuggingFace course my whole life.\")"
      ],
      "execution_count": 2,
      "outputs": [
        {
          "output_type": "stream",
          "name": "stderr",
          "text": [
            "No model was supplied, defaulted to distilbert-base-uncased-finetuned-sst-2-english (https://huggingface.co/distilbert-base-uncased-finetuned-sst-2-english)\n"
          ]
        },
        {
          "output_type": "display_data",
          "data": {
            "application/vnd.jupyter.widget-view+json": {
              "model_id": "5ecd6f0edc2a4c7c8e426cfb2b7e5126",
              "version_minor": 0,
              "version_major": 2
            },
            "text/plain": [
              "Downloading:   0%|          | 0.00/629 [00:00<?, ?B/s]"
            ]
          },
          "metadata": {}
        },
        {
          "output_type": "display_data",
          "data": {
            "application/vnd.jupyter.widget-view+json": {
              "model_id": "64b3af56db564f758316057b5b7875b5",
              "version_minor": 0,
              "version_major": 2
            },
            "text/plain": [
              "Downloading:   0%|          | 0.00/255M [00:00<?, ?B/s]"
            ]
          },
          "metadata": {}
        },
        {
          "output_type": "display_data",
          "data": {
            "application/vnd.jupyter.widget-view+json": {
              "model_id": "70a6d93920c346e5873d54e4bca25a70",
              "version_minor": 0,
              "version_major": 2
            },
            "text/plain": [
              "Downloading:   0%|          | 0.00/48.0 [00:00<?, ?B/s]"
            ]
          },
          "metadata": {}
        },
        {
          "output_type": "display_data",
          "data": {
            "application/vnd.jupyter.widget-view+json": {
              "model_id": "c62eb66e1cd9475897779b482285c7a7",
              "version_minor": 0,
              "version_major": 2
            },
            "text/plain": [
              "Downloading:   0%|          | 0.00/226k [00:00<?, ?B/s]"
            ]
          },
          "metadata": {}
        },
        {
          "output_type": "execute_result",
          "data": {
            "text/plain": [
              "[{'label': 'POSITIVE', 'score': 0.9598048329353333}]"
            ]
          },
          "metadata": {},
          "execution_count": 2
        }
      ]
    },
    {
      "cell_type": "code",
      "metadata": {
        "id": "kpoPEN7zbuig",
        "outputId": "fad50303-85b3-4dfe-ce5f-9caf3c12e08e",
        "colab": {
          "base_uri": "https://localhost:8080/"
        }
      },
      "source": [
        "reviewsFile = open('reviews.txt','r')\n",
        "reviews = list(map(lambda x:x[:-1],reviewsFile.readlines()))\n",
        "reviewsFile.close()\n",
        "\n",
        "labelsFile = open('labels.txt','r')\n",
        "labels = list(map(lambda x:x[:-1],labelsFile.readlines()))\n",
        "labelsFile.close()\n",
        "\n",
        "print('# of reviews: ', len(reviews))\n",
        "print('# of labels: ', len(labels))\n",
        "print(set(labels))"
      ],
      "execution_count": 3,
      "outputs": [
        {
          "output_type": "stream",
          "name": "stdout",
          "text": [
            "# of reviews:  25000\n",
            "# of labels:  25000\n",
            "{'negative', 'positive'}\n"
          ]
        }
      ]
    },
    {
      "cell_type": "code",
      "metadata": {
        "id": "iqP4LePXcLWl"
      },
      "source": [
        "def check_hugging_face(rev_num):\n",
        "  print(reviews[rev_num])\n",
        "  print(classifier(reviews[rev_num]))\n",
        "  print(labels[rev_num])"
      ],
      "execution_count": 6,
      "outputs": []
    },
    {
      "cell_type": "code",
      "metadata": {
        "id": "w_LUvcOxcRAU",
        "outputId": "bdd3b755-7e23-4338-cb00-cd75134523c8",
        "colab": {
          "base_uri": "https://localhost:8080/"
        }
      },
      "source": [
        "for i in range(0,100,5):\n",
        "  print('--------------------------')\n",
        "  check_hugging_face(i)"
      ],
      "execution_count": 7,
      "outputs": [
        {
          "output_type": "stream",
          "name": "stdout",
          "text": [
            "--------------------------\n",
            "bromwell high is a cartoon comedy . it ran at the same time as some other programs about school life  such as  teachers  . my   years in the teaching profession lead me to believe that bromwell high  s satire is much closer to reality than is  teachers  . the scramble to survive financially  the insightful students who can see right through their pathetic teachers  pomp  the pettiness of the whole situation  all remind me of the schools i knew and their students . when i saw the episode in which a student repeatedly tried to burn down the school  i immediately recalled . . . . . . . . . at . . . . . . . . . . high . a classic line inspector i  m here to sack one of your teachers . student welcome to bromwell high . i expect that many adults of my age think that bromwell high is far fetched . what a pity that it isn  t   \n",
            "[{'label': 'NEGATIVE', 'score': 0.9980175495147705}]\n",
            "positive\n",
            "--------------------------\n",
            "this film lacked something i couldn  t put my finger on at first charisma on the part of the leading actress . this inevitably translated to lack of chemistry when she shared the screen with her leading man . even the romantic scenes came across as being merely the actors at play . it could very well have been the director who miscalculated what he needed from the actors . i just don  t know .  br    br   but could it have been the screenplay  just exactly who was the chef in love with  he seemed more enamored of his culinary skills and restaurant  and ultimately of himself and his youthful exploits  than of anybody or anything else . he never convinced me he was in love with the princess .  br    br   i was disappointed in this movie . but  don  t forget it was nominated for an oscar  so judge for yourself .  \n",
            "[{'label': 'NEGATIVE', 'score': 0.9995033740997314}]\n",
            "negative\n",
            "--------------------------\n",
            "this isn  t the comedic robin williams  nor is it the quirky  insane robin williams of recent thriller fame . this is a hybrid of the classic drama without over  dramatization  mixed with robin  s new love of the thriller . but this isn  t a thriller  per se . this is more a mystery  suspense vehicle through which williams attempts to locate a sick boy and his keeper .  br    br   also starring sandra oh and rory culkin  this suspense drama plays pretty much like a news report  until william  s character gets close to achieving his goal .  br    br   i must say that i was highly entertained  though this movie fails to teach  guide  inspect  or amuse . it felt more like i was watching a guy  williams   as he was actually performing the actions  from a third person perspective . in other words  it felt real  and i was able to subscribe to the premise of the story .  br    br   all in all  it  s worth a watch  though it  s definitely not friday  saturday night fare .  br    br   it rates a  .     from . . .  br    br   the fiend  .  \n",
            "[{'label': 'POSITIVE', 'score': 0.9392032027244568}]\n",
            "positive\n",
            "--------------------------\n",
            "i don  t know who to blame  the timid writers or the clueless director . it seemed to be one of those movies where so much was paid to the stars  angie  charlie  denise  rosanna and jon  that there wasn  t enough left to really make a movie . this could have been very entertaining  but there was a veil of timidity  even cowardice  that hung over each scene . since it got an r rating anyway why was the ubiquitous bubble bath scene shot with a    year  old woman and not angie harmon  why does sheen sleepwalk through potentially hot relationships with two of the most beautiful and sexy actresses in the world  if they were only looking for laughs why not cast whoopi goldberg and judy tenuta instead  this was so predictable i was surprised to find that the director wasn  t a five year old . what a waste  not just for the viewers but for the actors as well .  \n",
            "[{'label': 'NEGATIVE', 'score': 0.9996674060821533}]\n",
            "negative\n",
            "--------------------------\n",
            "when i first read armistead maupins story i was taken in by the human drama displayed by gabriel no one and those he cares about and loves . that being said  we have now been given the film version of an excellent story and are expected to see past the gloss of hollywood . . .  br    br   writer armistead maupin and director patrick stettner have truly succeeded   br    br   with just the right amount of restraint robin williams captures the fragile essence of gabriel and lets us see his struggle with issues of trust both in his personnel life  jess  and the world around him  donna  .  br    br   as we are introduced to the players in this drama we are reminded that nothing is ever as it seems and that the smallest event can change our lives irrevocably . the request to review a book written by a young man turns into a life changing event that helps gabriel find the strength within himself to carry on and move forward .  br    br   it  s to bad that most people will avoid this film . i only say that because the average american will probably think  robin williams in a serious role  that didn  t work before   please give this movie a chance  robin williams touches the darkness we all must find and go through in ourselves to be better people . like his movie one hour photo he has stepped up as an actor and made another quality piece of art .  br    br   oh and before i forget  i believe bobby cannavale as jess steals every scene he is in . he has the      s leading man looks and screen presence . it  s this hacks opinion he could carry his own movie right now    br    br   s  \n",
            "[{'label': 'POSITIVE', 'score': 0.9815198183059692}]\n",
            "positive\n",
            "--------------------------\n",
            "plot is not worth discussion even if it hints at corruption  murder  power and the rest of thriller related topics . characters are interesting though sometimes . not realistic but interesting nevertheless .  br    br   development is slow like tea drinking ceremony . visuals not stunning  but good enough to ease the eye strain . good movie to watch after dinner before going to bed  nothing shocking too much  nothing overexciting . movie sitcom style .  br    br   i liked woody  excellent performance . had to fight the plot inadequacy and did the job pretty good . the rest are bearable though very predictable . the whole is watchable and better than most tv shows .  \n",
            "[{'label': 'POSITIVE', 'score': 0.9988523721694946}]\n",
            "negative\n",
            "--------------------------\n",
            "like one of the previous commenters said  this had the foundations of a great movie but something happened on the way to delivery . such a waste because collette  s performance was eerie and williams was believable . i just kept waiting for it to get better . i don  t think it was bad editing or needed another director  it could have just been the film . it came across as a canadian movie  something like the first few seasons of x  files . not cheap  just hokey . also  it needed a little more suspense . something that makes you jump off your seat . the movie reached that moment then faded away kind of like a false climax . i can see how being too suspenseful would have taken away from the  reality  of the story but i thought that part was reached when gabriel was in the hospital looking for the boy . this movie needs to have a director  s cut that tries to fix these problems .  \n",
            "[{'label': 'NEGATIVE', 'score': 0.999152660369873}]\n",
            "positive\n",
            "--------------------------\n",
            "ghost of dragstrip hollow is a typical      s teens in turmoil movie . it is not a horror or science fiction movie . plot concerns a group of teens who are about to get kicked out of their  hot rod  club because they cannot meet the rent . once kicked out  they decide to try an old haunted house . the only saving grace for the film is that the  ghost   paul blaisdell in the she creature suit  turns out to be an out of work movie monster played by blaisdell .  \n",
            "[{'label': 'NEGATIVE', 'score': 0.9983013868331909}]\n",
            "negative\n",
            "--------------------------\n",
            "this night listener is better than people are generally saying . it has weaknesses  and it seems to be having a genre identity crisis  no doubt  but i think its creepy atmosphere and intriguing performances make up for this . the whole thing feels like one of those fireside  this happened to a friend of a friend of mine  ghost stories . one big complaint about the movie is the pacing but the slow and sometimes awkward pacing is deliberate . everything that unfolds in this movie is kept well within the realm of possibility  and real life just sort of plods alongno  so there are no flashy endings or earth  shattering revelations  no  showdown  scenes . thank heaven . you have to get into the zone when watching this movie  forget your reservations and your expectations of what makes a  conventionally  good movie . williams isn  t terrific  but he easily meets the needs of the story  plus his character is supposed to be somewhat generic   no one   as he is the everyman  the avatar by which we ourselves enter the story . toni collette  s performance should be nominated for an oscar  even if she maybe shouldn  t win it  . give it a shot . for quality and content alone  the night listener is surely in the top twenty percent of movies coming out these days .  \n",
            "[{'label': 'POSITIVE', 'score': 0.9744603633880615}]\n",
            "positive\n",
            "--------------------------\n",
            "i rented this on dvd and i kind of feel bad since dawson and lugacy are so earnest about it in the dvd comments . it  s not a bad movie exactly  but it  s one of those films that desperately wants to be a deep comment on human nature while not realizing that its story is practically a genre . plus  it is a little simplistic about the issue in a lot of ways  and the characters  behavior often strains belief . i  d say its a film that you would get something out of if you don  t have a lot of film  tv  literature  life behind you  to be honest  i  ve seen almost exactly the same story in horror comics even  . otherwise  its point has been made before and more artfully . and that gets to the big problem  which is that it really doesn  t have much of cinematic interest to it besides the point . it ends up being a fairly bland movie overall that invests everything in the idea that the basic story will be shocking and compelling  and it doesn  t really pay off .  \n",
            "[{'label': 'NEGATIVE', 'score': 0.9995991587638855}]\n",
            "negative\n",
            "--------------------------\n",
            "aro tolbukhin burnt alive seven people in a mission in guatemala in the    s . also he declared that he had murdered another   people  he used to kill pregnant women  and then he set them on fire  .  br    br   this movie is a documentary that portraits the personality of aro through several interviews with people that got to know him and through some scenes played by actors based on real facts .  br    br    aro tolbukhin  is a serious work  so analytical  it  s not morbid at all . such a horrifying testimony about how some childhood trauma can turn a man into a monster .  br    br   my rate      \n",
            "[{'label': 'POSITIVE', 'score': 0.9919049739837646}]\n",
            "positive\n",
            "--------------------------\n",
            "first lesson that some film makers  particularly those inspired by hollywood  need to know  just  style  does not sell . i guess tashan when translated will mean style . second  if you are hell bent on selling style  that does not spare you from having a decent story .  br    br   tashan has some story which could have sufficed with some better director . but it is not slick . for example  all three  saif  kareena and akshay  are narrators at different points in the story . but this setup is not utilized to properly . there could have been a better mix and match of their narrations . actions sequences are from the seventies .  br    br   cheoreography of the film is awful . i think vaibhavi merchant just sleep walked through this film . vishal  shekhar have put up a good score but it does not belong to this film . why is there a sufi song  dil haara  in tashan  why is the cool hinglish song  dil dance maare  not on anil kapoor when he is the one who is english crazy   br    br   akshay kumar is the saving grace of the film . but he is in his stereotyped self . you won  t mind missing this film .  \n",
            "[{'label': 'NEGATIVE', 'score': 0.9967730641365051}]\n",
            "negative\n",
            "--------------------------\n",
            "sure  titanic was a good movie  the first time you see it  but you really should see it a second time and your opinion of the film will definetly change . the first time you see the movie you see the underlying love  story and think ooh  how romantic . the second time  and i am not the only one to think this  it is just annoying and you just sit there watching the movie thinking  when is this dn ship going to sink    and even this is not as impressive when you see it several times . the acting in this film is not bad  but definetly not great either . was i glad dicaprio did not win an oscar for that film  i mean who does he think he is  anthony hopkins or denzel washington  he does  half  good movie and won  t do a film for less than    million . and then everyone is suprised that there are hardly any films with him in it . but enough about  in my eyes  the worst character of the film . kate winslet  s performance on the other hand was wonderful . i also tink that the director is very talented to put a film of such a magnitude together . there is one lesson to be learned about this movie there are too many love  stories as it is  filmmakers shouldn  t try to add a crummy romance in to every single movie    out of a possible     i give this film a mere    .  \n",
            "[{'label': 'NEGATIVE', 'score': 0.9803577065467834}]\n",
            "positive\n",
            "--------------------------\n",
            "i had no idea what the film is about before i saw it because tashan only had teaser trailers while it was being promoted . so i asked my friends if they knew anything about it and they said that  it is the directorial debut of vijay krishna acharya who wrote the screenplays for dhoom    and saif ali khan  s son ibrahim makes his debut in the film by playing him as a child in his flashback  .  br    br   after watching it  i understood that why their wasn  t a proper trailer because there wasn  t anything in the film to show . the story was extremely dum and even a   year old child can come up with a better story  line . there was hardly any action and the camera shook at every possible angle there is and it  s difficult to figure out that who is killing who . also the action was daft  unrealistic e . g .  man with a handgun managed to kill about    men with machine guns .  br    br   while i was watching tashan it reminded me of  films  br    br   sin city during the opening credits .  br    br   koyla anil kapoor  s terrible english like amrish puri in koyla .  br    br   jhoom barabar jhoom the outrageously ridiculous jokes that are not even a jot funny .  br    br   i also heard the budget is   crores which is the same amount as dhoom  and i don  t know where all the money went to . anyway if you did not like dhoom  then there is absolutely no chance that you will like tashan . race was hot on heels and that is a million times better .  br    br   the only  good songs are dil haara  challiya and both songs are shot in greece at good locations but what is the use of it in a rubbish film  even anil kapoor  s terrible english couldn  t save this discomfiture .  \n",
            "[{'label': 'NEGATIVE', 'score': 0.9994008541107178}]\n",
            "negative\n",
            "--------------------------\n",
            "previously  i wrote that i loved  titanic   cried at its ending  many times over   and i  m a guy in his    s . i also wondered about why this great movie  which won so many awards and was applauded by so many critics  was given only a  .  rating by imdb . com users .  br    br   well  i looked at the breakdown of the user ratings . while   .   of all votes gave it a   rating    .   gave it a  rating . these   .   of these irrational imdb users  in effect  pulled the overall rating down to  .  .  br    br   in my previous comments  i blamed this very unusual voting pattern  a sudden surge in  ratings  with a high   rating  dropping only gradually and then suddenly reversing course and jumping at the  rating level  on only one thing hatred for leonardo dicaprio . believe me  i  ve tuned into enough chat rooms to see the banter by young people  young men  mostly   who defame him left and right . they absolutely hate the man  and they will have no part in giving him any credit in  titanic  .  to answer one other user i am not talking about someone who just really doesn  t like the movie that much  and gave it a  or a   etc . everyone has  and is entitled to  his  her own taste . but no one can convince me that the imdb rating of only  .  overall for  titanic   pulled to that level by an inordinate number of ridiculous  ratings  is a fair reflection of the overall motion picture .   br    br   let me demonstrate my point by comparing the imdb user voting pattern of  titanic  to  randomly chosen box office and critical  bombs   there are many more  but these  will prove my point  .  heaven  s gate        was pulled from the theaters quickly after a very poor box office showing  and imdb voters  ratings were   .     ratings and  .    ratings  overall rating of  .   .  big top pee  wee        got  .     ratings and  .    ratings  overall rating of  .   .  cat people        got  .     ratings and  .    ratings  overall rating of  .   .  blind date        got  .     ratings and  .    ratings  overall rating of  .   .  jumpin  jack flash        got  .     ratings and  .    ratings  overall rating of  .   . what do all of these films have in common with  titanic   all of the percentages of their  ratings are lower     than  titanic   and none of these stinkers ever was nominated for a single award . again   titanic  got   .    ratings  compare that to the other  movies i just mentioned .  br    br   can there be any explanation other than the hatred of leo factor   br    br    \n",
            "[{'label': 'NEGATIVE', 'score': 0.9984795451164246}]\n",
            "positive\n",
            "--------------------------\n",
            "i was very displeased with this move . everything was terrible from the start . the comedy was unhumorous  the action overdone  the songs unmelodious . even the storyline was weightless . from a writer who has written successful scripts like guru and dhoom  i had high expectations . the actors worked way too hard and did not help the film at all . of course  kareena rocked the screen in a bikini but for two seconds . i think hindi stunt directors should research how action movies are done . they tend to exaggerate way too much . in chinese films  this style works because that is their signature piece . but  hindi cinema  s signature are the songs . a good action movie should last no more than two hours and cannot look unrealistic . but  in the future  i  m sure these action movies will get much sharper . also to be noted comedy and action films do not mix unless done properly . good luck next time .  \n",
            "[{'label': 'NEGATIVE', 'score': 0.9806758165359497}]\n",
            "negative\n",
            "--------------------------\n",
            "titanic is a long but well made tragic adventure love story that takes place during the ill  fated voyage on the unsinkable ship . writer  director james cameron has done a great job of making this movie about a fictional love story between two very different people and combining that with the real event of the titanic that sunk after hitting an iceberg on april        claiming thousands of lives who perished in the icy freeing waters of the north atlantic . the two leads in the film are great in their roles including leonardo dicaprio and kate winslet . they make for a good on  screen couple . dicpario and winslet also had genuine chemistry together which made the romance that eventually blossoms between them that much more believable . they both showed real talent when this one came out and both of them have continued to show just that in their most recently films as well . the rest of the supporting cast including billy zane  kathy bates  frances fisher  jonathan hyde  and bill paxton in a small role are equally impressive as their characters who help bring them to life in this film . the love story  the action  suspense  and the special effects are magnificent done especially for that time . the horror of the situation the characters were in felt so real because it really happened making you want most of them to survive this life and death situation . the pacing was a little slow at times and it was a little long but the rest of the movie made up for it  s few flaws . titanic makes for a great date movie which is sure to make some girls cry almost every time they watch it . the fact that this really happened definitely added to the movie making you feel sorry for all the lives lost when the titanic sunk into the atlantic after hitting an iceberg . overall titanic is a tragic heartbreaking story about two people who fall in love while on the ill  fated ship thats brought to life by the exceptional performances from the cast especially dicaprio and winslet who definitely make this movie worth the time to watch .  \n",
            "[{'label': 'POSITIVE', 'score': 0.9996415376663208}]\n",
            "positive\n",
            "--------------------------\n",
            "the film lacks style  i mean original style . everything looks copied including action  first appearances in the movie  songs  dialog delivery  etc etc . yes  there the goof  ups were original  like in the beginning a car is shown with number up number and few seconds later it starts falling down a hill with number mh . that was one in many goof  ups of the movie   anything good in the movie  yes  for kareena fans  if there are any  kareena in bikini . for akshay fans  his dialogs and action stunts . thats it . nothing else . so watch it on your own risk and don  t blame the director or actors . director is already insane and actors  i pity them .  \n",
            "[{'label': 'NEGATIVE', 'score': 0.998829185962677}]\n",
            "negative\n",
            "--------------------------\n",
            "for me personally this film goes down in my top four of all time . no exceptions . james cameron has proved himself time and time again that he is a master storyteller . through films such as aliens  the abyss and both terminators it is clear that he was a brilliant and confidant director as far as action and science  fiction goes . he sees a story and adds a strange quality to the film . but titanic is so much different to his other strokes of brilliance . the film is exceptionally moving and allows room for surprises  plot development and interesting character developments in a story that everyone knows . the story of the famed voyager sinking on her maiden voyage is legend so the challenge was for cameron to make a truthful  interesting and entertaining film about it . the acting is wonderful as leonardo dicaprio who plays jack and kate winslet who plays rose became superstars overnight with the release of this film and in most films i get annoyed when the supporting characters aren  t given a lot to do but in this film it is more purposeful because as an elderly rose  gloria stuart  tells her story it is quickly apparent that it is rose  s and jack  s story alone  no one else . emotionally it is entirely satisfying and can leave no dry eye in a theater or home . the music has become iconic and legendary . it is composer james horner  s finest soundtrack ever and evokes so much from the film and the audience . the song after so long has become annoying but i still appreciate it for the phenomenon it is and this film is . only one problem  the usual james cameron problem  is the dialogue which is memorable but in a bad way as in how cheesy it is at points but all that aside . james cameron has delivered a masterpiece and a romantic epic that sweeps you away on a journey of a lifetime . my heart won  t go on from this one .  \n",
            "[{'label': 'POSITIVE', 'score': 0.9978291392326355}]\n",
            "positive\n",
            "--------------------------\n",
            "such a long awaited movie . . but it has disappointed me and my friends who had gone to see the movie on the first day . . from the trailers it looked like a action movie  but it turned out to be a out  out comedy  a bad comedy  . but one thing that deserves appreciation is the acting by these professional actors  they  ve done their part of the movie very well . good acting  but i don  t think that can save the movie . . india has been shot beautifully . kerala  rajasthan   ladakh   were all saturated with color  alright . nevertheless the way the intrinsic beauty of these places was shot made me want to find out exactly where those places were and when i could go there     br    br   action sequences were shot very shabbily  no one could make out head  tail of the stunts  they  ve used akki  akshay kumar  very well but could  ve been done much much better . .  br    br   animation is the worst i  ve seen in recent movies     s movies had better animation scenes i guess  initial scene where the car is falling off  flying should be better word  the road into lake  .  br    br   and the movies name has been mentioned nearly every   to   mins  just to make sure audiences don  t forget the movie name i guess . .  \n",
            "[{'label': 'NEGATIVE', 'score': 0.978942334651947}]\n",
            "negative\n"
          ]
        }
      ]
    },
    {
      "cell_type": "code",
      "metadata": {
        "id": "5_8mpMKZcsjn"
      },
      "source": [
        ""
      ],
      "execution_count": null,
      "outputs": []
    }
  ]
}